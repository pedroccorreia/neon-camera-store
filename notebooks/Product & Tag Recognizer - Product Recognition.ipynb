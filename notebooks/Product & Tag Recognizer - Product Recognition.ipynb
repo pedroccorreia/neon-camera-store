{
  "metadata": {
    "kernelspec": {
      "name": "python3",
      "display_name": "Python 3 (ipykernel)",
      "language": "python"
    },
    "language_info": {
      "name": "python",
      "version": "3.10.4",
      "mimetype": "text/x-python",
      "codemirror_mode": {
        "name": "ipython",
        "version": 3
      },
      "pygments_lexer": "ipython3",
      "nbconvert_exporter": "python",
      "file_extension": ".py"
    },
    "colab": {
      "provenance": [],
      "toc_visible": true,
      "collapsed_sections": [
        "DiVfGOTnIafB"
      ]
    }
  },
  "nbformat_minor": 5,
  "nbformat": 4,
  "cells": [
    {
      "cell_type": "code",
      "source": [
        "# Copyright 2023 Google LLC\n",
        "#\n",
        "# Licensed under the Apache License, Version 2.0 (the \"License\");\n",
        "# you may not use this file except in compliance with the License.\n",
        "# You may obtain a copy of the License at\n",
        "#\n",
        "#     https://www.apache.org/licenses/LICENSE-2.0\n",
        "#\n",
        "# Unless required by applicable law or agreed to in writing, software\n",
        "# distributed under the License is distributed on an \"AS IS\" BASIS,\n",
        "# WITHOUT WARRANTIES OR CONDITIONS OF ANY KIND, either express or implied.\n",
        "# See the License for the specific language governing permissions and\n",
        "# limitations under the License."
      ],
      "metadata": {
        "id": "aXmxtYZBe71M"
      },
      "id": "aXmxtYZBe71M",
      "execution_count": null,
      "outputs": []
    },
    {
      "cell_type": "markdown",
      "source": [
        "# Product & Tag Recognizer <img src=\"https://lh3.googleusercontent.com/UiNooY4LUgW_oTvpsNhPpQzsstV5W8F7rYgxgGBD85cWJoLmrOzhVs_ksK_vgx40SHs7jCqkTkCk=e14-rj-sc0xffffff-h130-w32\" alt=\"Vertex AI logo\">\n",
        "\n"
      ],
      "metadata": {
        "id": "7aZWXpbf0Eph"
      },
      "id": "7aZWXpbf0Eph"
    },
    {
      "cell_type": "markdown",
      "source": [
        "<div class=\"markdown-google-sans\">\n",
        "\n",
        "## **Setup**\n",
        "</div>\n",
        "\n",
        "Loads the required python libraries to run this notebook\n"
      ],
      "metadata": {
        "id": "OQ_SlL0K1Cw6"
      },
      "id": "OQ_SlL0K1Cw6"
    },
    {
      "cell_type": "code",
      "source": [
        "!pip install opencv-python google-cloud-storage"
      ],
      "metadata": {
        "trusted": true,
        "id": "35856bf2-aa5e-436b-977a-9e5725b1a595",
        "colab": {
          "base_uri": "https://localhost:8080/"
        },
        "executionInfo": {
          "status": "ok",
          "timestamp": 1701216318884,
          "user_tz": -660,
          "elapsed": 16903,
          "user": {
            "displayName": "",
            "userId": ""
          }
        },
        "outputId": "b19e9cae-2b9f-4d62-ccbd-3d29be0fc192"
      },
      "execution_count": 1,
      "outputs": [
        {
          "output_type": "stream",
          "name": "stdout",
          "text": [
            "Requirement already satisfied: opencv-python in /usr/local/lib/python3.10/dist-packages (4.8.0.76)\n",
            "Requirement already satisfied: google-cloud-storage in /usr/local/lib/python3.10/dist-packages (2.8.0)\n",
            "Requirement already satisfied: numpy>=1.21.2 in /usr/local/lib/python3.10/dist-packages (from opencv-python) (1.23.5)\n",
            "Requirement already satisfied: google-auth<3.0dev,>=1.25.0 in /usr/local/lib/python3.10/dist-packages (from google-cloud-storage) (2.17.3)\n",
            "Requirement already satisfied: google-api-core!=2.0.*,!=2.1.*,!=2.2.*,!=2.3.0,<3.0.0dev,>=1.31.5 in /usr/local/lib/python3.10/dist-packages (from google-cloud-storage) (2.11.1)\n",
            "Requirement already satisfied: google-cloud-core<3.0dev,>=2.3.0 in /usr/local/lib/python3.10/dist-packages (from google-cloud-storage) (2.3.3)\n",
            "Requirement already satisfied: google-resumable-media>=2.3.2 in /usr/local/lib/python3.10/dist-packages (from google-cloud-storage) (2.6.0)\n",
            "Requirement already satisfied: requests<3.0.0dev,>=2.18.0 in /usr/local/lib/python3.10/dist-packages (from google-cloud-storage) (2.31.0)\n",
            "Requirement already satisfied: googleapis-common-protos<2.0.dev0,>=1.56.2 in /usr/local/lib/python3.10/dist-packages (from google-api-core!=2.0.*,!=2.1.*,!=2.2.*,!=2.3.0,<3.0.0dev,>=1.31.5->google-cloud-storage) (1.61.0)\n",
            "Requirement already satisfied: protobuf!=3.20.0,!=3.20.1,!=4.21.0,!=4.21.1,!=4.21.2,!=4.21.3,!=4.21.4,!=4.21.5,<5.0.0.dev0,>=3.19.5 in /usr/local/lib/python3.10/dist-packages (from google-api-core!=2.0.*,!=2.1.*,!=2.2.*,!=2.3.0,<3.0.0dev,>=1.31.5->google-cloud-storage) (3.20.3)\n",
            "Requirement already satisfied: cachetools<6.0,>=2.0.0 in /usr/local/lib/python3.10/dist-packages (from google-auth<3.0dev,>=1.25.0->google-cloud-storage) (5.3.1)\n",
            "Requirement already satisfied: pyasn1-modules>=0.2.1 in /usr/local/lib/python3.10/dist-packages (from google-auth<3.0dev,>=1.25.0->google-cloud-storage) (0.3.0)\n",
            "Requirement already satisfied: six>=1.9.0 in /usr/local/lib/python3.10/dist-packages (from google-auth<3.0dev,>=1.25.0->google-cloud-storage) (1.16.0)\n",
            "Requirement already satisfied: rsa<5,>=3.1.4 in /usr/local/lib/python3.10/dist-packages (from google-auth<3.0dev,>=1.25.0->google-cloud-storage) (4.9)\n",
            "Requirement already satisfied: google-crc32c<2.0dev,>=1.0 in /usr/local/lib/python3.10/dist-packages (from google-resumable-media>=2.3.2->google-cloud-storage) (1.5.0)\n",
            "Requirement already satisfied: charset-normalizer<4,>=2 in /usr/local/lib/python3.10/dist-packages (from requests<3.0.0dev,>=2.18.0->google-cloud-storage) (3.3.0)\n",
            "Requirement already satisfied: idna<4,>=2.5 in /usr/local/lib/python3.10/dist-packages (from requests<3.0.0dev,>=2.18.0->google-cloud-storage) (3.4)\n",
            "Requirement already satisfied: urllib3<3,>=1.21.1 in /usr/local/lib/python3.10/dist-packages (from requests<3.0.0dev,>=2.18.0->google-cloud-storage) (2.0.7)\n",
            "Requirement already satisfied: certifi>=2017.4.17 in /usr/local/lib/python3.10/dist-packages (from requests<3.0.0dev,>=2.18.0->google-cloud-storage) (2023.7.22)\n",
            "Requirement already satisfied: pyasn1<0.6.0,>=0.4.6 in /usr/local/lib/python3.10/dist-packages (from pyasn1-modules>=0.2.1->google-auth<3.0dev,>=1.25.0->google-cloud-storage) (0.5.0)\n"
          ]
        }
      ],
      "id": "35856bf2-aa5e-436b-977a-9e5725b1a595"
    },
    {
      "cell_type": "markdown",
      "source": [
        "<div class=\"markdown-google-sans\">\n",
        "\n",
        "### **Environment variables**\n",
        "</div>\n"
      ],
      "metadata": {
        "id": "5W35tHJ-Sbcc"
      },
      "id": "5W35tHJ-Sbcc"
    },
    {
      "cell_type": "code",
      "source": [
        "API_ENDPOINT='visionai.googleapis.com'\n",
        "PROJECT_ID='neon-camera-403606'\n",
        "CATALOG_ID='neon-camera-catalog-demo'\n",
        "\n",
        "CATALOG_ID='neon-camera-catalog-gregory-hill-demo'\n",
        "ENDPOINT_ID='003'\n",
        "\n",
        "LOCATION = 'us-central1'\n",
        "\n",
        "INPUT_BUCKET='gs://neon-camera-403606-input'\n",
        "OUTPUT_BUCKET='gs://neon-camera-403606-output'\n",
        "\n",
        "RUNS_BUCKET='gs://neon-camera-403606-runs'\n",
        "RECOGNITION_FOLDER='recognition'\n",
        "\n",
        "IMAGE_LIST_FILENAME='input_files.txt'\n",
        "\n",
        "\n",
        "RUN_PREFIX ='bread_'\n",
        "STORE='Gregory Hills'\n",
        "AISLE='bread'"
      ],
      "metadata": {
        "id": "czI_G7_dSfLX",
        "executionInfo": {
          "status": "ok",
          "timestamp": 1701216318885,
          "user_tz": -660,
          "elapsed": 5,
          "user": {
            "displayName": "",
            "userId": ""
          }
        }
      },
      "id": "czI_G7_dSfLX",
      "execution_count": 2,
      "outputs": []
    },
    {
      "cell_type": "markdown",
      "source": [
        "<div class=\"markdown-google-sans\">\n",
        "\n",
        "### **Color Coding**\n",
        "</div>\n"
      ],
      "metadata": {
        "id": "uvf7JW3JDIFt"
      },
      "id": "uvf7JW3JDIFt"
    },
    {
      "cell_type": "code",
      "source": [
        "#CV2 Uses BGR code | typical tools will do RGB\n",
        "BOUNDING_BOX_COLOUR = ( 204, 102, 51)\n",
        "PRODUCT_IDENTIFIED_BOX_COLOR = (51, 153, 0)\n",
        "PRODUCT_NOT_IDENTIFIED_BOX_COLOR = (0, 0, 255)"
      ],
      "metadata": {
        "id": "-FQYTVJSDM-N",
        "executionInfo": {
          "status": "ok",
          "timestamp": 1701216318885,
          "user_tz": -660,
          "elapsed": 4,
          "user": {
            "displayName": "",
            "userId": ""
          }
        }
      },
      "id": "-FQYTVJSDM-N",
      "execution_count": 3,
      "outputs": []
    },
    {
      "cell_type": "markdown",
      "source": [
        "<div class=\"markdown-google-sans\">\n",
        "\n",
        "## **Common Functions**\n",
        "Required immports\n",
        "</div>\n",
        "\n",
        "\n"
      ],
      "metadata": {
        "id": "zSfAEE16RBSq"
      },
      "id": "zSfAEE16RBSq"
    },
    {
      "cell_type": "code",
      "source": [
        "# imports\n",
        "from math import floor\n",
        "import json\n",
        "import cv2\n",
        "\n",
        "from google.cloud import storage\n",
        "from datetime import datetime\n",
        "\n",
        "import time\n",
        "from tqdm import tqdm"
      ],
      "metadata": {
        "id": "xnoCh_CSRK4G",
        "executionInfo": {
          "status": "ok",
          "timestamp": 1701216323521,
          "user_tz": -660,
          "elapsed": 4640,
          "user": {
            "displayName": "",
            "userId": ""
          }
        }
      },
      "id": "xnoCh_CSRK4G",
      "execution_count": 4,
      "outputs": []
    },
    {
      "cell_type": "markdown",
      "source": [
        "<div class=\"markdown-google-sans\">\n",
        "\n",
        "### **Support Functions**\n",
        "</div>\n",
        "\n"
      ],
      "metadata": {
        "id": "ZFNcWZMQd6tj"
      },
      "id": "ZFNcWZMQd6tj"
    },
    {
      "cell_type": "code",
      "source": [
        "# checks if a given long running operation has been completed\n",
        "# it will block the operation until the operation has completed.\n",
        "def check_operation_status(operation_id, check_timeout=60):\n",
        "  start = time.time()\n",
        "  done = False\n",
        "\n",
        "  while not done:\n",
        "    operation_result = !curl -sS -X GET -H \"Authorization: Bearer $(gcloud auth print-access-token)\" -H \"Content-Type: application/json\" https://visionai.googleapis.com/v1alpha1/projects/$PROJECT_ID/locations/$LOCATION/operations/$OPERATION_ID\n",
        "    operation_result = str(operation_result)\n",
        "\n",
        "    current_time = time.time()\n",
        "    elapsed_time = str(round(current_time-start))+' seconds ' if current_time - start < 60 else str( round((current_time-start)/60) ) + ' minutes'\n",
        "    print(\"\\r\"+'Awaiting function {}  {} elapsed.'.format(OPERATION_ID, elapsed_time),end=\"\")\n",
        "    time.sleep(check_timeout)\n",
        "    done = '\"done\": true' in operation_result\n",
        "\n",
        "\n",
        "  print(f' Operation: {OPERATION_ID} done')\n",
        "  return operation_result\n",
        "\n"
      ],
      "metadata": {
        "id": "wTvKygwSd5BI",
        "executionInfo": {
          "status": "ok",
          "timestamp": 1701216323521,
          "user_tz": -660,
          "elapsed": 11,
          "user": {
            "displayName": "",
            "userId": ""
          }
        }
      },
      "id": "wTvKygwSd5BI",
      "execution_count": 5,
      "outputs": []
    },
    {
      "cell_type": "markdown",
      "source": [
        "<div class=\"markdown-google-sans\">\n",
        "\n",
        "### **GCS Functions**\n",
        "</div>\n",
        "\n",
        "Section with the common functions that we will require.\n"
      ],
      "metadata": {
        "id": "NmwgHRhlIWP9"
      },
      "id": "NmwgHRhlIWP9"
    },
    {
      "cell_type": "code",
      "source": [
        "#create a functions that gives you the files in a given bucket\n",
        "def list_blobs(bucket_name):\n",
        "    #contains gs:// remove it\n",
        "    bucket_name = bucket_name.replace('gs://','')\n",
        "\n",
        "    \"\"\"Lists all the blobs in the bucket.\"\"\"\n",
        "\n",
        "    storage_client = storage.Client()\n",
        "\n",
        "    blobs = storage_client.list_blobs(bucket_name)\n",
        "\n",
        "    return blobs\n"
      ],
      "metadata": {
        "id": "BD_hiZDSXTeY",
        "executionInfo": {
          "status": "ok",
          "timestamp": 1701216323521,
          "user_tz": -660,
          "elapsed": 10,
          "user": {
            "displayName": "",
            "userId": ""
          }
        }
      },
      "id": "BD_hiZDSXTeY",
      "execution_count": 6,
      "outputs": []
    },
    {
      "cell_type": "code",
      "source": [
        "\n",
        "def list_blobs_prefix(bucket_name, path_prefix, skip_folders=True):\n",
        "    \"\"\"Lists all the blobs in the bucket and returns the one that satisfy\n",
        "    a prefix\"\"\"\n",
        "    #contains gs:// remove it\n",
        "    bucket_name = bucket_name.replace('gs://','')\n",
        "\n",
        "    storage_client = storage.Client()\n",
        "\n",
        "    blobs = storage_client.list_blobs(bucket_name)\n",
        "\n",
        "    res =[]\n",
        "    for blob in blobs:\n",
        "\n",
        "      if(blob.name.startswith(path_prefix)):\n",
        "        if(skip_folders):\n",
        "          if(blob.name.endswith('/')):\n",
        "            continue\n",
        "        res.append(blob.name)\n",
        "    return res"
      ],
      "metadata": {
        "id": "6DJ57OEN0Uwq",
        "executionInfo": {
          "status": "ok",
          "timestamp": 1701216323521,
          "user_tz": -660,
          "elapsed": 10,
          "user": {
            "displayName": "",
            "userId": ""
          }
        }
      },
      "id": "6DJ57OEN0Uwq",
      "execution_count": 7,
      "outputs": []
    },
    {
      "cell_type": "code",
      "source": [
        "def upload_blob_from_memory(bucket_name, contents, destination_blob_name, content_type):\n",
        "    \"\"\"Uploads a file to the bucket.\"\"\"\n",
        "\n",
        "    #contains gs:// remove it\n",
        "    bucket_name = bucket_name.replace('gs://','')\n",
        "\n",
        "    # The ID of your GCS bucket\n",
        "    # bucket_name = \"your-bucket-name\"\n",
        "\n",
        "    # The contents to upload to the file\n",
        "    # contents = \"these are my contents\"\n",
        "\n",
        "    # The ID of your GCS object\n",
        "    # destination_blob_name = \"storage-object-name\"\n",
        "\n",
        "    storage_client = storage.Client()\n",
        "    bucket = storage_client.bucket(bucket_name)\n",
        "    blob = bucket.blob(destination_blob_name)\n",
        "\n",
        "    blob.upload_from_string(contents)"
      ],
      "metadata": {
        "id": "JYoqRryFbQpg",
        "executionInfo": {
          "status": "ok",
          "timestamp": 1701216323521,
          "user_tz": -660,
          "elapsed": 10,
          "user": {
            "displayName": "",
            "userId": ""
          }
        }
      },
      "id": "JYoqRryFbQpg",
      "execution_count": 8,
      "outputs": []
    },
    {
      "cell_type": "code",
      "source": [
        "def create_run_file(run_id, bucket_name, contents, destination_blob_name):\n",
        "    \"\"\"Uploads a file to the bucket.\"\"\"\n",
        "    #contains gs:// remove it\n",
        "    bucket_name = RUNS_BUCKET.replace('gs://','')\n",
        "\n",
        "    storage_client = storage.Client()\n",
        "    bucket = storage_client.bucket(bucket_name)\n",
        "    blob = bucket.blob(run_id+'/'+destination_blob_name)\n",
        "\n",
        "    blob.upload_from_string(contents)\n",
        "\n",
        "    print(\n",
        "        f\"{destination_blob_name} with contents {contents} uploaded to {bucket_name}.\"\n",
        "    )"
      ],
      "metadata": {
        "id": "jvfVMWtVfC0d",
        "executionInfo": {
          "status": "ok",
          "timestamp": 1701216323522,
          "user_tz": -660,
          "elapsed": 10,
          "user": {
            "displayName": "",
            "userId": ""
          }
        }
      },
      "id": "jvfVMWtVfC0d",
      "execution_count": 9,
      "outputs": []
    },
    {
      "cell_type": "code",
      "source": [
        "def upload_file(bucket_name, contents, destination_blob_name):\n",
        "    \"\"\"Uploads a file to the bucket.\"\"\"\n",
        "    #contains gs:// remove it\n",
        "    bucket_name = bucket_name.replace('gs://','')\n",
        "\n",
        "    storage_client = storage.Client()\n",
        "    bucket = storage_client.bucket(bucket_name)\n",
        "    blob = bucket.blob(destination_blob_name)\n",
        "    blob.upload_from_string(contents)"
      ],
      "metadata": {
        "id": "NA0b1zRX1Iz-",
        "executionInfo": {
          "status": "ok",
          "timestamp": 1701216323522,
          "user_tz": -660,
          "elapsed": 9,
          "user": {
            "displayName": "",
            "userId": ""
          }
        }
      },
      "id": "NA0b1zRX1Iz-",
      "execution_count": 10,
      "outputs": []
    },
    {
      "cell_type": "code",
      "source": [
        "def load_json_blob(bucket_name, blob_name):\n",
        "    \"\"\"Loads a blob from the bucket.\"\"\"\n",
        "    #contains gs:// remove it\n",
        "    bucket_name = bucket_name.replace('gs://','')\n",
        "\n",
        "    # Instantiate a Google Cloud Storage client and specify required bucket and file\n",
        "    storage_client = storage.Client()\n",
        "    bucket = storage_client.get_bucket(bucket_name)\n",
        "    blob = bucket.blob(blob_name)\n",
        "\n",
        "    raw_data = blob.download_as_text(client=None)\n",
        "    temp = raw_data.split('\\n')\n",
        "\n",
        "    data = [json.loads(line) for line in temp[:-1]]\n",
        "\n",
        "    # Download the contents of the blob as a string and then parse it using json.loads() method\n",
        "    return data"
      ],
      "metadata": {
        "id": "OHeT3GySAyh6",
        "executionInfo": {
          "status": "ok",
          "timestamp": 1701216323522,
          "user_tz": -660,
          "elapsed": 9,
          "user": {
            "displayName": "",
            "userId": ""
          }
        }
      },
      "id": "OHeT3GySAyh6",
      "execution_count": 11,
      "outputs": []
    },
    {
      "cell_type": "code",
      "source": [
        "def load_blob(bucket_name, blob_name):\n",
        "    \"\"\"Loads a blob from the bucket.\"\"\"\n",
        "    #contains gs:// remove it\n",
        "    bucket_name = bucket_name.replace('gs://','')\n",
        "\n",
        "    # Instantiate a Google Cloud Storage client and specify required bucket and file\n",
        "    storage_client = storage.Client()\n",
        "    bucket = storage_client.get_bucket(bucket_name)\n",
        "    blob = bucket.blob(blob_name)\n",
        "\n",
        "    return blob"
      ],
      "metadata": {
        "id": "SZVlFlBCK-_F",
        "executionInfo": {
          "status": "ok",
          "timestamp": 1701216323522,
          "user_tz": -660,
          "elapsed": 8,
          "user": {
            "displayName": "",
            "userId": ""
          }
        }
      },
      "id": "SZVlFlBCK-_F",
      "execution_count": 12,
      "outputs": []
    },
    {
      "cell_type": "code",
      "source": [
        "def copy_blob(\n",
        "    bucket_name, blob_name, destination_bucket_name, destination_blob_name,\n",
        "):\n",
        "    \"\"\"Copies a blob from one bucket to another with a new name.\"\"\"\n",
        "    # bucket_name = \"your-bucket-name\"\n",
        "    # blob_name = \"your-object-name\"\n",
        "    # destination_bucket_name = \"destination-bucket-name\"\n",
        "    # destination_blob_name = \"destination-object-name\"\n",
        "\n",
        "    #contains gs:// remove it\n",
        "    bucket_name = bucket_name.replace('gs://','')\n",
        "    destination_bucket_name = destination_bucket_name.replace('gs://','')\n",
        "\n",
        "    storage_client = storage.Client()\n",
        "\n",
        "    source_bucket = storage_client.bucket(bucket_name)\n",
        "    source_blob = source_bucket.blob(blob_name)\n",
        "    destination_bucket = storage_client.bucket(destination_bucket_name)\n",
        "\n",
        "\n",
        "    blob_copy = source_bucket.copy_blob(\n",
        "        source_blob, destination_bucket, destination_blob_name,\n",
        "    )"
      ],
      "metadata": {
        "id": "JtuOEEGTAopE",
        "executionInfo": {
          "status": "ok",
          "timestamp": 1701216323522,
          "user_tz": -660,
          "elapsed": 8,
          "user": {
            "displayName": "",
            "userId": ""
          }
        }
      },
      "id": "JtuOEEGTAopE",
      "execution_count": 13,
      "outputs": []
    },
    {
      "cell_type": "markdown",
      "source": [
        "<div class=\"markdown-google-sans\">\n",
        "\n",
        "### **Image Functions**\n",
        "</div>\n"
      ],
      "metadata": {
        "id": "DiVfGOTnIafB"
      },
      "id": "DiVfGOTnIafB"
    },
    {
      "cell_type": "code",
      "source": [
        "import numpy as np\n",
        "import cv2 as cv\n",
        "\n",
        "def read_image(content: bytes) -> np.ndarray:\n",
        "    \"\"\"\n",
        "    Image bytes to OpenCV image\n",
        "\n",
        "    :param content: Image bytes\n",
        "    :returns OpenCV image\n",
        "    :raises TypeError: If content is not bytes\n",
        "    :raises ValueError: If content does not represent an image\n",
        "    \"\"\"\n",
        "    if not isinstance(content, bytes):\n",
        "        raise TypeError(f\"Expected 'content' to be bytes, received: {type(content)}\")\n",
        "    image = cv.imdecode(np.frombuffer(content, dtype=np.uint8), cv.IMREAD_COLOR)\n",
        "    if image is None:\n",
        "        raise ValueError(f\"Expected 'content' to be image bytes\")\n",
        "    return image"
      ],
      "metadata": {
        "id": "CfbbsovhK40Q",
        "executionInfo": {
          "status": "ok",
          "timestamp": 1701216323522,
          "user_tz": -660,
          "elapsed": 8,
          "user": {
            "displayName": "",
            "userId": ""
          }
        }
      },
      "id": "CfbbsovhK40Q",
      "execution_count": 14,
      "outputs": []
    },
    {
      "cell_type": "code",
      "source": [
        "\n",
        "def read_image_from_storage(input_image_uri: str) -> np.ndarray:\n",
        "  \"\"\"\n",
        "  Image URI to OpenCV image\n",
        "\n",
        "  :param input_image_uri: Image URI\n",
        "  \"\"\"\n",
        "  img_metadata = input_image_uri.replace('gs://','')\n",
        "  img_metadata = img_metadata.split('/')\n",
        "\n",
        "\n",
        "  img_blob = load_blob(img_metadata[0], '/'.join(img_metadata[1:]))\n",
        "  img = read_image(img_blob.download_as_bytes())\n",
        "  return img"
      ],
      "metadata": {
        "id": "ZYdBEm8T7U_5",
        "executionInfo": {
          "status": "ok",
          "timestamp": 1701216323523,
          "user_tz": -660,
          "elapsed": 8,
          "user": {
            "displayName": "",
            "userId": ""
          }
        }
      },
      "id": "ZYdBEm8T7U_5",
      "execution_count": 15,
      "outputs": []
    },
    {
      "cell_type": "code",
      "source": [
        "def write_image_to_storage(image, output_bucket, output_image_uri):\n",
        "    \"\"\"\n",
        "    OpenCV image to Image URI\n",
        "\n",
        "    :param image: OpenCV image\n",
        "    \"\"\"\n",
        "    result_blob = cv2.imencode('.jpg', image)[1].tobytes()\n",
        "    upload_blob_from_memory(output_bucket, result_blob, output_image_uri, 'image/jpeg')\n"
      ],
      "metadata": {
        "id": "bQLZKFwIJQI5",
        "executionInfo": {
          "status": "ok",
          "timestamp": 1701219695201,
          "user_tz": -660,
          "elapsed": 2,
          "user": {
            "displayName": "",
            "userId": ""
          }
        }
      },
      "id": "bQLZKFwIJQI5",
      "execution_count": 31,
      "outputs": []
    },
    {
      "cell_type": "code",
      "source": [
        "def draw_bounding_box(image, x, y, width, height, color):\n",
        "    \"\"\"\n",
        "    Draw bounding boxes on image\n",
        "\n",
        "    :param image: OpenCV image\n",
        "    \"\"\"\n",
        "      # Draw the bounding box rectangle on the image\n",
        "    cv2.rectangle(image, (x, y), (x + width, y + height), color, 2)\n",
        "    return image\n"
      ],
      "metadata": {
        "id": "LABtWKlUId_c",
        "executionInfo": {
          "status": "ok",
          "timestamp": 1701216323523,
          "user_tz": -660,
          "elapsed": 8,
          "user": {
            "displayName": "",
            "userId": ""
          }
        }
      },
      "id": "LABtWKlUId_c",
      "execution_count": 17,
      "outputs": []
    },
    {
      "cell_type": "markdown",
      "source": [
        "<div class=\"markdown-google-sans\">\n",
        "\n",
        "# **Product Recognition**\n",
        "</div>\n",
        "\n"
      ],
      "metadata": {
        "id": "HAEDlZNyUrlM"
      },
      "id": "HAEDlZNyUrlM"
    },
    {
      "cell_type": "markdown",
      "source": [
        "<div class=\"markdown-google-sans\">\n",
        "\n",
        "## **Product Bounding Boxes**\n",
        "</div>\n",
        "\n",
        "For this step you need to have a set of images that will have the products in their respective aisles. The output of this section will be:\n",
        "\n",
        "- A json object with all the bounding boxes detected per image.\n",
        "- We will use that information to crop the original image to produce N images with the products found for the next step.\n",
        "\n",
        "We will filter out bounding boxes with a lower confidence level than our threshold.\n"
      ],
      "metadata": {
        "id": "G6EZUH7rUvu3"
      },
      "id": "G6EZUH7rUvu3"
    },
    {
      "cell_type": "code",
      "source": [
        "#create run id\n",
        "run_id = RUN_PREFIX+'_'+datetime.now().strftime(\"%Y%m%d-%H%M%S\")"
      ],
      "metadata": {
        "id": "zh5Br_krCxrv",
        "executionInfo": {
          "status": "ok",
          "timestamp": 1701216323523,
          "user_tz": -660,
          "elapsed": 7,
          "user": {
            "displayName": "",
            "userId": ""
          }
        }
      },
      "id": "zh5Br_krCxrv",
      "execution_count": 18,
      "outputs": []
    },
    {
      "cell_type": "code",
      "source": [
        "#get all input files in the input bucket\n",
        "files = list_blobs(INPUT_BUCKET)\n",
        "\n",
        "# copy the original files to the run folder\n",
        "for file in files:\n",
        "    copy_blob(INPUT_BUCKET, file.name, RUNS_BUCKET, run_id + '/original/' + file.name)"
      ],
      "metadata": {
        "id": "wvxed0XNAShm",
        "executionInfo": {
          "status": "ok",
          "timestamp": 1701216327961,
          "user_tz": -660,
          "elapsed": 4446,
          "user": {
            "displayName": "",
            "userId": ""
          }
        }
      },
      "id": "wvxed0XNAShm",
      "execution_count": 19,
      "outputs": []
    },
    {
      "cell_type": "code",
      "source": [
        "#get all input files in the input bucket\n",
        "files = list_blobs(INPUT_BUCKET)\n",
        "file_content = \"\\n\".join( RUNS_BUCKET + '/' + run_id + '/original/'+str(filename.name) for filename in files)\n",
        "\n",
        "#write all files into the input file\n",
        "create_run_file(run_id,RUNS_BUCKET, file_content , IMAGE_LIST_FILENAME)\n",
        "\n",
        "INPUT_FILE_URI = RUNS_BUCKET + '/' + run_id + '/'+ IMAGE_LIST_FILENAME\n",
        "RUN_TEMP_FOLDER = RUNS_BUCKET + '/' + run_id"
      ],
      "metadata": {
        "id": "gQDXVb4YWkJU",
        "colab": {
          "base_uri": "https://localhost:8080/"
        },
        "executionInfo": {
          "status": "ok",
          "timestamp": 1701216328490,
          "user_tz": -660,
          "elapsed": 531,
          "user": {
            "displayName": "",
            "userId": ""
          }
        },
        "outputId": "d29102fa-9741-4055-ec36-6a81dc59cd42"
      },
      "id": "gQDXVb4YWkJU",
      "execution_count": 20,
      "outputs": [
        {
          "output_type": "stream",
          "name": "stdout",
          "text": [
            "input_files.txt with contents gs://neon-camera-403606-runs/bread__20231129-000523/original/bread_01_2023112315065777.jpg\n",
            "gs://neon-camera-403606-runs/bread__20231129-000523/original/bread_01_20231123150709403.jpg\n",
            "gs://neon-camera-403606-runs/bread__20231129-000523/original/bread_01_20231123150813480.jpg\n",
            "gs://neon-camera-403606-runs/bread__20231129-000523/original/bread_01_20231123150843664.jpg\n",
            "gs://neon-camera-403606-runs/bread__20231129-000523/original/bread_01_202311231508534.jpg\n",
            "gs://neon-camera-403606-runs/bread__20231129-000523/original/bread_01_20231123150900345.jpg\n",
            "gs://neon-camera-403606-runs/bread__20231129-000523/original/bread_01_20231123150913646.jpg\n",
            "gs://neon-camera-403606-runs/bread__20231129-000523/original/bread_01_20231123150928101.jpg\n",
            "gs://neon-camera-403606-runs/bread__20231129-000523/original/bread_01_20231123150944467.jpg\n",
            "gs://neon-camera-403606-runs/bread__20231129-000523/original/bread_01_20231123151322163.jpg\n",
            "gs://neon-camera-403606-runs/bread__20231129-000523/original/bread_01_20231123151424672.jpg\n",
            "gs://neon-camera-403606-runs/bread__20231129-000523/original/bread_01_20231123151450507.jpg\n",
            "gs://neon-camera-403606-runs/bread__20231129-000523/original/bread_01_20231123151456929.jpg\n",
            "gs://neon-camera-403606-runs/bread__20231129-000523/original/bread_01_20231123151505513.jpg\n",
            "gs://neon-camera-403606-runs/bread__20231129-000523/original/bread_01_20231123151518685.jpg uploaded to neon-camera-403606-runs.\n"
          ]
        }
      ]
    },
    {
      "cell_type": "code",
      "source": [
        "request_data=f\"\"\"\n",
        "{{\n",
        "  \"gcsSource\": {{\n",
        "    \"uris\": [\"{INPUT_FILE_URI}\"]\n",
        "  }},\n",
        "  \"features\": [\n",
        "    {{\n",
        "      \"type\": \"TYPE_PRODUCT_RECOGNITION\",\n",
        "      \"productRecognitionConfig\": {{\n",
        "        \"product_detection_model\": \"builtin/stable\",\n",
        "        \"additionalConfig\": {{\n",
        "            \"product_recognition_additional_config\": {{ \"detectionOnlyEnabled\": true }}\n",
        "          }}\n",
        "        }}\n",
        "     }}\n",
        "  ],\n",
        "  \"outputGcsDestination\": {{\n",
        "    \"outputUriPrefix\": \"{RUN_TEMP_FOLDER}\"\n",
        "  }}\n",
        "}}\n",
        "\"\"\"\n",
        "\n",
        "# Open the file for writing\n",
        "with open('data.json', 'w') as f:\n",
        "    # Define the data to be written\n",
        "    # Use a for loop to write each line of data to the file\n",
        "    f.write(request_data)\n",
        "    f.close()"
      ],
      "metadata": {
        "id": "Uo7O4vRYxTgn",
        "executionInfo": {
          "status": "ok",
          "timestamp": 1701216328490,
          "user_tz": -660,
          "elapsed": 4,
          "user": {
            "displayName": "",
            "userId": ""
          }
        }
      },
      "id": "Uo7O4vRYxTgn",
      "execution_count": 21,
      "outputs": []
    },
    {
      "cell_type": "code",
      "source": [
        "output = !curl -sS -X POST -H \"Authorization: Bearer $(gcloud auth print-access-token)\" -H \"Content-Type: application/json\" https://visionai.googleapis.com/v1alpha1/projects/$PROJECT_ID/locations/{LOCATION}/retailEndpoints/$ENDPOINT_ID:batchAnalyze -d @data.json\n",
        "ouput = str(output)\n",
        "OPERATION_ID = output[1].split(':')[1].split('/')[-1][0:-2]\n",
        "print(OPERATION_ID)\n"
      ],
      "metadata": {
        "id": "ducVsUAQyMYd",
        "colab": {
          "base_uri": "https://localhost:8080/"
        },
        "executionInfo": {
          "status": "ok",
          "timestamp": 1701216339313,
          "user_tz": -660,
          "elapsed": 10826,
          "user": {
            "displayName": "",
            "userId": ""
          }
        },
        "outputId": "d282b75b-4efd-4f71-aa06-f52f3706b3de"
      },
      "id": "ducVsUAQyMYd",
      "execution_count": 22,
      "outputs": [
        {
          "output_type": "stream",
          "name": "stdout",
          "text": [
            "operation-1701216338782-60b3f4b8f2a7b-c4ebd5b0-7ceee90a\n"
          ]
        }
      ]
    },
    {
      "cell_type": "code",
      "source": [
        "#waiting for operation to be done:\n",
        "check_operation_status(OPERATION_ID)"
      ],
      "metadata": {
        "id": "RRcRkmf98rLc",
        "colab": {
          "base_uri": "https://localhost:8080/",
          "height": 90
        },
        "executionInfo": {
          "status": "ok",
          "timestamp": 1701217194215,
          "user_tz": -660,
          "elapsed": 854905,
          "user": {
            "displayName": "",
            "userId": ""
          }
        },
        "outputId": "00e9ecdb-a813-47b4-cda8-d967a029ce34"
      },
      "id": "RRcRkmf98rLc",
      "execution_count": 23,
      "outputs": [
        {
          "output_type": "stream",
          "name": "stdout",
          "text": [
            "Awaiting function operation-1701216338782-60b3f4b8f2a7b-c4ebd5b0-7ceee90a  13 minutes elapsed. Operation: operation-1701216338782-60b3f4b8f2a7b-c4ebd5b0-7ceee90a done\n"
          ]
        },
        {
          "output_type": "execute_result",
          "data": {
            "text/plain": [
              "'[\\'{\\', \\'  \"name\": \"projects/neon-camera-403606/locations/us-central1/operations/operation-1701216338782-60b3f4b8f2a7b-c4ebd5b0-7ceee90a\",\\', \\'  \"done\": true,\\', \\'  \"response\": {\\', \\'    \"@type\": \"type.googleapis.com/google.cloud.visionai.v1alpha1.RetailBatchAnalyzeResponse\"\\', \\'  }\\', \\'}\\']'"
            ],
            "application/vnd.google.colaboratory.intrinsic+json": {
              "type": "string"
            }
          },
          "metadata": {},
          "execution_count": 23
        }
      ]
    },
    {
      "cell_type": "markdown",
      "source": [
        "Now that we have the images to be analysed we do the first api call to get the bounding boxes"
      ],
      "metadata": {
        "id": "-KBEUK7nf1Y3"
      },
      "id": "-KBEUK7nf1Y3"
    },
    {
      "cell_type": "code",
      "source": [
        "def process_bounding_boxes_result(input_image_uri, annotation, output_bucket, output_image_uri):\n",
        "  img = read_image_from_storage(input_image_uri)\n",
        "\n",
        "  # Shape of the image\n",
        "  rows = img.shape[0]\n",
        "  columns = img.shape[1]\n",
        "\n",
        "  # go through different bounding boxes\n",
        "  yMin = floor(rows * annotation['productRegion']['boundingBox']['yMin'])\n",
        "  yMax = floor(rows * annotation['productRegion']['boundingBox']['yMax'])\n",
        "  xMin = floor(columns * annotation['productRegion']['boundingBox']['xMin'])\n",
        "  xMax = floor(columns * annotation['productRegion']['boundingBox']['xMax'])\n",
        "  crop = img[yMin:yMax, xMin:xMax]\n",
        "\n",
        "  filename = str(output_image_uri) + '.jpg'\n",
        "\n",
        "\n",
        "  # result_blob = cv2.imencode('.jpg', crop)[1].tobytes()\n",
        "  # upload_blob_from_memory(output_bucket, result_blob, output_image_uri)\n",
        "\n",
        "  write_image_to_storage(crop, output_bucket, output_image_uri)\n",
        "\n"
      ],
      "metadata": {
        "id": "VC2hxUywAase",
        "executionInfo": {
          "status": "ok",
          "timestamp": 1701219683786,
          "user_tz": -660,
          "elapsed": 508,
          "user": {
            "displayName": "",
            "userId": ""
          }
        }
      },
      "id": "VC2hxUywAase",
      "execution_count": 30,
      "outputs": []
    },
    {
      "cell_type": "code",
      "source": [
        "def draw_bounding_boxes_from_annotation(image, annotation, color):\n",
        "  # Shape of the image\n",
        "  rows = image.shape[0]\n",
        "  columns = image.shape[1]\n",
        "\n",
        "  # go through different bounding boxes\n",
        "  yMin = floor(rows * annotation['productRegion']['boundingBox']['yMin'])\n",
        "  yMax = floor(rows * annotation['productRegion']['boundingBox']['yMax'])\n",
        "  xMin = floor(columns * annotation['productRegion']['boundingBox']['xMin'])\n",
        "  xMax = floor(columns * annotation['productRegion']['boundingBox']['xMax'])\n",
        "\n",
        "  draw_bounding_box(image, xMin, yMin, xMax-xMin, yMax-yMin, color)\n"
      ],
      "metadata": {
        "id": "gNuESnr7BAhq",
        "executionInfo": {
          "status": "ok",
          "timestamp": 1701217194216,
          "user_tz": -660,
          "elapsed": 8,
          "user": {
            "displayName": "",
            "userId": ""
          }
        }
      },
      "id": "gNuESnr7BAhq",
      "execution_count": 25,
      "outputs": []
    },
    {
      "cell_type": "code",
      "source": [],
      "metadata": {
        "id": "IoDg-W9CcCsN",
        "executionInfo": {
          "status": "ok",
          "timestamp": 1701217194216,
          "user_tz": -660,
          "elapsed": 8,
          "user": {
            "displayName": "",
            "userId": ""
          }
        }
      },
      "id": "IoDg-W9CcCsN",
      "execution_count": 25,
      "outputs": []
    },
    {
      "cell_type": "code",
      "source": [
        "result_file_name=run_id+'/'+OPERATION_ID+'_product_recognition_predictions.jsonl'\n",
        "bounding_boxes_entries = load_json_blob(RUNS_BUCKET, result_file_name)\n",
        "\n",
        "\n",
        "for entry in bounding_boxes_entries:\n",
        "  print(f''' {entry[\"imageUri\"]} found {len(entry['productRecognitionAnnotations'])} products''')\n",
        "  #load original image to draw bounding boxes\n",
        "  original_image = read_image_from_storage(entry[\"imageUri\"])\n",
        "  #get original filename\n",
        "  original_image_filename = entry[\"imageUri\"].replace('gs://','')\n",
        "  original_image_filename = original_image_filename.split('/')[-1].split('.')[0]\n",
        "  #go through annotations for this image\n",
        "  i=1\n",
        "  for annotation in entry['productRecognitionAnnotations']:\n",
        "    img_output_uri = run_id + '/cropped/' +  original_image_filename + '/'+str(i) + '.jpg'\n",
        "    process_bounding_boxes_result(entry[\"imageUri\"],annotation,RUNS_BUCKET,img_output_uri)\n",
        "\n",
        "    #draw bounding box\n",
        "    draw_bounding_boxes_from_annotation(original_image,annotation, BOUNDING_BOX_COLOUR)\n",
        "    i = i +1\n",
        "  #save the original image with the bounding boxes highlighted\n",
        "  write_image_to_storage(original_image, RUNS_BUCKET, run_id+'/detection/'+original_image_filename+'.jpg')\n"
      ],
      "metadata": {
        "id": "QxQMlKpN7AC-",
        "colab": {
          "base_uri": "https://localhost:8080/"
        },
        "executionInfo": {
          "status": "ok",
          "timestamp": 1701220257115,
          "user_tz": -660,
          "elapsed": 551139,
          "user": {
            "displayName": "",
            "userId": ""
          }
        },
        "outputId": "35319b14-2917-4544-acc3-ef81aa1818f3"
      },
      "id": "QxQMlKpN7AC-",
      "execution_count": 32,
      "outputs": [
        {
          "output_type": "stream",
          "name": "stdout",
          "text": [
            " gs://neon-camera-403606-runs/bread__20231129-000523/original/bread_01_202311231508534.jpg found 119 products\n",
            " gs://neon-camera-403606-runs/bread__20231129-000523/original/bread_01_20231123150928101.jpg found 120 products\n",
            " gs://neon-camera-403606-runs/bread__20231129-000523/original/bread_01_20231123151450507.jpg found 27 products\n",
            " gs://neon-camera-403606-runs/bread__20231129-000523/original/bread_01_20231123150709403.jpg found 85 products\n",
            " gs://neon-camera-403606-runs/bread__20231129-000523/original/bread_01_20231123151518685.jpg found 40 products\n",
            " gs://neon-camera-403606-runs/bread__20231129-000523/original/bread_01_20231123150813480.jpg found 155 products\n",
            " gs://neon-camera-403606-runs/bread__20231129-000523/original/bread_01_20231123150843664.jpg found 136 products\n",
            " gs://neon-camera-403606-runs/bread__20231129-000523/original/bread_01_2023112315065777.jpg found 72 products\n",
            " gs://neon-camera-403606-runs/bread__20231129-000523/original/bread_01_20231123151505513.jpg found 41 products\n",
            " gs://neon-camera-403606-runs/bread__20231129-000523/original/bread_01_20231123151456929.jpg found 33 products\n",
            " gs://neon-camera-403606-runs/bread__20231129-000523/original/bread_01_20231123151424672.jpg found 61 products\n",
            " gs://neon-camera-403606-runs/bread__20231129-000523/original/bread_01_20231123150944467.jpg found 109 products\n",
            " gs://neon-camera-403606-runs/bread__20231129-000523/original/bread_01_20231123151322163.jpg found 48 products\n",
            " gs://neon-camera-403606-runs/bread__20231129-000523/original/bread_01_20231123150913646.jpg found 94 products\n",
            " gs://neon-camera-403606-runs/bread__20231129-000523/original/bread_01_20231123150900345.jpg found 94 products\n"
          ]
        }
      ]
    },
    {
      "cell_type": "markdown",
      "source": [
        "Now we have all the images in the corresponding folder. The path should be:\n",
        "\n",
        "gs://run-folder/folder-id/cropped/\n",
        "\n",
        "- Within that folder you'll have as many folders as the input images\n",
        "- Inside those folder, you'll find as many images as the products that were identified\n",
        "\n",
        "In addition to this there will be a gs://run-folder/folder-id/detection\n",
        "\n",
        "- Within that folder you'll have one image with product detection bounding boxes. You'll have as many as input files."
      ],
      "metadata": {
        "id": "-CXw2iq2TjEh"
      },
      "id": "-CXw2iq2TjEh"
    },
    {
      "cell_type": "markdown",
      "source": [
        "<div class=\"markdown-google-sans\">\n",
        "\n",
        "## **Product Recognition**\n",
        "\n",
        "- Pickup all images in gs://run-folder/folder-id/cropped/\n",
        "- create a file with all of the images that results previously\n",
        "- add it to the run folder\n",
        "- Call the api\n",
        "</div>"
      ],
      "metadata": {
        "id": "5zf-AW4fU2X7"
      },
      "id": "5zf-AW4fU2X7"
    },
    {
      "cell_type": "code",
      "source": [
        "cropped_files = list_blobs_prefix(RUNS_BUCKET, run_id+'/cropped/')\n",
        "print(f'Processing {len(cropped_files)}')\n",
        "\n",
        "# Write a result to the input file that will be used for the second step.\n",
        "file_content = \"\\n\".join( RUNS_BUCKET + '/'+str(filename) for filename in cropped_files)\n",
        "\n",
        "upload_file(RUNS_BUCKET, file_content, run_id + '/cropped_files.csv')\n",
        "\n",
        "cropped_files_uri = RUNS_BUCKET + '/' + run_id + '/cropped_files.csv'\n",
        "cropped_files_output_uri = RUNS_BUCKET + '/' + run_id + '/'+ RECOGNITION_FOLDER"
      ],
      "metadata": {
        "id": "umt9Q94y0vGp",
        "colab": {
          "base_uri": "https://localhost:8080/"
        },
        "executionInfo": {
          "status": "ok",
          "timestamp": 1701220344204,
          "user_tz": -660,
          "elapsed": 2049,
          "user": {
            "displayName": "",
            "userId": ""
          }
        },
        "outputId": "1eeb64f6-4da2-40fb-d1fd-d084e98c695a"
      },
      "id": "umt9Q94y0vGp",
      "execution_count": 33,
      "outputs": [
        {
          "output_type": "stream",
          "name": "stdout",
          "text": [
            "Processing 1234\n"
          ]
        }
      ]
    },
    {
      "cell_type": "code",
      "source": [
        "request_data=f\"\"\"\n",
        "{{\n",
        "  \"gcsSource\": {{\n",
        "    \"uris\": [\"{cropped_files_uri}\"]\n",
        "  }},\n",
        "  \"features\": [\n",
        "    {{\n",
        "      \"type\": \"TYPE_PRODUCT_RECOGNITION\",\n",
        "      \"productRecognitionConfig\": {{\n",
        "        \"product_detection_model\": \"builtin/stable\",\n",
        "     }}\n",
        "    }}\n",
        "  ],\n",
        "  \"outputGcsDestination\": {{\n",
        "    \"outputUriPrefix\": \"{cropped_files_output_uri}\"\n",
        "  }}\n",
        "}}\n",
        "\"\"\"\n",
        "\n",
        "# Open the file for writing\n",
        "with open('data.json', 'w') as f:\n",
        "    # Define the data to be written\n",
        "    # Use a for loop to write each line of data to the file\n",
        "    f.write(request_data)\n",
        "    f.close()"
      ],
      "metadata": {
        "id": "OlYgChf-T-Ri",
        "executionInfo": {
          "status": "ok",
          "timestamp": 1701220344204,
          "user_tz": -660,
          "elapsed": 2,
          "user": {
            "displayName": "",
            "userId": ""
          }
        }
      },
      "id": "OlYgChf-T-Ri",
      "execution_count": 34,
      "outputs": []
    },
    {
      "cell_type": "code",
      "source": [
        "# do the request to do the product recognition\n",
        "output = !curl -sS -X POST -H \"Authorization: Bearer $(gcloud auth print-access-token)\" -H \"Content-Type: application/json\" https://visionai.googleapis.com/v1alpha1/projects/$PROJECT_ID/locations/{LOCATION}/retailEndpoints/$ENDPOINT_ID:batchAnalyze -d @data.json\n",
        "ouput = str(output)\n",
        "OPERATION_ID = output[1].split(':')[1].split('/')[-1][0:-2]\n",
        "print(OPERATION_ID)"
      ],
      "metadata": {
        "id": "z05qYwHgMJwY",
        "colab": {
          "base_uri": "https://localhost:8080/"
        },
        "executionInfo": {
          "status": "ok",
          "timestamp": 1701220345662,
          "user_tz": -660,
          "elapsed": 1460,
          "user": {
            "displayName": "",
            "userId": ""
          }
        },
        "outputId": "b55e3577-30d1-4387-bcfe-90c08391631f"
      },
      "id": "z05qYwHgMJwY",
      "execution_count": 35,
      "outputs": [
        {
          "output_type": "stream",
          "name": "stdout",
          "text": [
            "operation-1701220345322-60b403a5e1a9f-afd7c47f-875fe0ab\n"
          ]
        }
      ]
    },
    {
      "cell_type": "code",
      "source": [
        "#waiting for operation to be done:\n",
        "check_operation_status(OPERATION_ID)"
      ],
      "metadata": {
        "id": "RFD4XVu3NSsr",
        "colab": {
          "base_uri": "https://localhost:8080/",
          "height": 0
        },
        "executionInfo": {
          "status": "ok",
          "timestamp": 1701221811400,
          "user_tz": -660,
          "elapsed": 1465740,
          "user": {
            "displayName": "",
            "userId": ""
          }
        },
        "outputId": "177cd0db-d461-453b-a98c-87540688d41b"
      },
      "id": "RFD4XVu3NSsr",
      "execution_count": 36,
      "outputs": [
        {
          "output_type": "stream",
          "name": "stdout",
          "text": [
            "Awaiting function operation-1701220345322-60b403a5e1a9f-afd7c47f-875fe0ab  23 minutes elapsed. Operation: operation-1701220345322-60b403a5e1a9f-afd7c47f-875fe0ab done\n"
          ]
        },
        {
          "output_type": "execute_result",
          "data": {
            "text/plain": [
              "'[\\'{\\', \\'  \"name\": \"projects/neon-camera-403606/locations/us-central1/operations/operation-1701220345322-60b403a5e1a9f-afd7c47f-875fe0ab\",\\', \\'  \"done\": true,\\', \\'  \"response\": {\\', \\'    \"@type\": \"type.googleapis.com/google.cloud.visionai.v1alpha1.RetailBatchAnalyzeResponse\"\\', \\'  }\\', \\'}\\']'"
            ],
            "application/vnd.google.colaboratory.intrinsic+json": {
              "type": "string"
            }
          },
          "metadata": {},
          "execution_count": 36
        }
      ]
    },
    {
      "cell_type": "markdown",
      "source": [
        "# Build Report\n"
      ],
      "metadata": {
        "id": "RZ3N-C8HRgXq"
      },
      "id": "RZ3N-C8HRgXq"
    },
    {
      "cell_type": "markdown",
      "source": [
        "<div class=\"markdown-google-sans\">\n",
        "\n",
        "## **Common functions**\n",
        "\n",
        "</div>"
      ],
      "metadata": {
        "id": "9fM1J2VPriI_"
      },
      "id": "9fM1J2VPriI_"
    },
    {
      "cell_type": "code",
      "source": [
        "def create_html_annotation_entry(entry):\n",
        "  if len(entry['productRecognitionAnnotations'][0]['recognitionResults']) == 0:\n",
        "    return f\"\"\"\n",
        "          <div >\n",
        "              <img class=\"thumbnail\" src=\"https://storage.cloud.google.com/{entry['imageUri'].replace('gs://','')}\" alt=\"My Image\">\n",
        "              <p>No product found</p>\n",
        "          </div>\n",
        "              \"\"\"\n",
        "  rec_result = entry['productRecognitionAnnotations'][0]['recognitionResults'][0]\n",
        "  prod_data = entry['productRecognitionAnnotations'][0]['recognitionResults'][0]['productMetadata']\n",
        "  return f\"\"\"\n",
        "          <div >\n",
        "              <img class=\"thumbnail\" src=\"https://storage.cloud.google.com/{entry['imageUri'].replace('gs://','')}\" alt=\"My Image\">\n",
        "              <p>Brand: {prod_data['brand']}</p>\n",
        "              <p>Product: {prod_data['title']}</p>\n",
        "              <p>Confidence: {rec_result['confidence']}</p>\n",
        "          </div>\n",
        "  \"\"\"\n",
        "\n",
        "\n",
        "\n"
      ],
      "metadata": {
        "id": "0WzQgY71Ts_1",
        "executionInfo": {
          "status": "ok",
          "timestamp": 1701221811400,
          "user_tz": -660,
          "elapsed": 7,
          "user": {
            "displayName": "",
            "userId": ""
          }
        }
      },
      "id": "0WzQgY71Ts_1",
      "execution_count": 37,
      "outputs": []
    },
    {
      "cell_type": "code",
      "source": [
        "#create overall metrics\n",
        "def create_image_metrics(result):\n",
        "  no_product_facing = len(result)\n",
        "\n",
        "  no_unrecognized_products = 0\n",
        "  no_recognized_products = 0\n",
        "  sum_confidence = 0\n",
        "  #of unrecognized products\n",
        "  for entry in result:\n",
        "    if ( len(entry['productRecognitionAnnotations'][0]['recognitionResults']) == 0):\n",
        "      no_unrecognized_products = no_unrecognized_products + 1\n",
        "\n",
        "    else:\n",
        "      no_recognized_products = no_recognized_products + 1\n",
        "      sum_confidence = sum_confidence + entry['productRecognitionAnnotations'][0]['recognitionResults'][0]['confidence']\n",
        "\n",
        "  average_confidence = 0 if  no_recognized_products == 0 else sum_confidence/no_recognized_products\n",
        "\n",
        "  all_gtins = []\n",
        "  for entry in result:\n",
        "    if ( len(entry['productRecognitionAnnotations'][0]['recognitionResults']) > 0):\n",
        "      gtin = entry['productRecognitionAnnotations'][0]['recognitionResults'][0]['productMetadata']['gtins'][0]\n",
        "      if gtin not in all_gtins:\n",
        "        all_gtins.append(gtin)\n",
        "  return { \"no_product_facing\": no_product_facing,\n",
        "          \"no_recognized_products\": no_recognized_products,\n",
        "           \"no_unrecognized_products\": no_unrecognized_products,\n",
        "           \"average_confidence\": average_confidence,\n",
        "           \"unique_products\": all_gtins}"
      ],
      "metadata": {
        "id": "lEGUMV0rkGwO",
        "executionInfo": {
          "status": "ok",
          "timestamp": 1701221811401,
          "user_tz": -660,
          "elapsed": 7,
          "user": {
            "displayName": "",
            "userId": ""
          }
        }
      },
      "id": "lEGUMV0rkGwO",
      "execution_count": 38,
      "outputs": []
    },
    {
      "cell_type": "code",
      "source": [
        "def create_image_html(image_filename, metrics, result, run_id):\n",
        "  html= f\"\"\"\n",
        "\n",
        "  <!DOCTYPE html>\n",
        "  <html>\n",
        "  <head>\n",
        "  <title>Run Report</title>\n",
        "  <link rel=\"stylesheet\" href=\"style.css\">\n",
        "  <link rel=\"preconnect\" href=\"https://fonts.googleapis.com\">\n",
        "  <link rel=\"preconnect\" href=\"https://fonts.gstatic.com\" crossorigin>\n",
        "  <link href=\"https://fonts.googleapis.com/css2?family=Roboto:wght@300&display=swap\" rel=\"stylesheet\">\n",
        "\n",
        "  </head>\n",
        "  <body>\n",
        "\n",
        "    <h1> Run ID: {run_id} </h1>\n",
        "\n",
        "    <h2> Image: {image_filename} </h2>\n",
        "\n",
        "    <table>\n",
        "    <thead>\n",
        "      <tr>\n",
        "        <th>Metric</th>\n",
        "        <th>Value</th>\n",
        "        <th>%</th>\n",
        "      </tr>\n",
        "    </thead>\n",
        "    <tbody>\n",
        "      <tr>\n",
        "        <td>Products Facings</td>\n",
        "        <td>{metrics['no_product_facing']}</td>\n",
        "        <td>-</td>\n",
        "      </tr>\n",
        "      <tr>\n",
        "        <td>Recognized Products</td>\n",
        "        <td>{metrics['no_recognized_products']}</td>\n",
        "        <td>{ round(metrics['no_recognized_products'] / metrics['no_product_facing'], 2)}</td>\n",
        "      </tr>\n",
        "      <tr>\n",
        "        <td>Unrecognized Products</td>\n",
        "        <td>{metrics['no_unrecognized_products']}</td>\n",
        "        <td>{round(metrics['no_unrecognized_products'] / metrics['no_product_facing'], 2)}</td>\n",
        "      </tr>\n",
        "      <tr>\n",
        "        <td>Recognize Products(unique) </td>\n",
        "        <td>{len(metrics['unique_products'])}</td>\n",
        "        <td>-</td>\n",
        "      </tr>\n",
        "      <tr>\n",
        "        <td>Average Recognition Confidence</td>\n",
        "        <td>{ round(metrics['average_confidence'], 2)}</td>\n",
        "        <td>-</td>\n",
        "      </tr>\n",
        "    </tbody>\n",
        "  </table>\n",
        "\n",
        "\n",
        "    <div class=\"row\">\n",
        "      <div class=\"column\">\n",
        "      <p> Input Image </p>\n",
        "        <a href=\"https://storage.cloud.google.com/neon-camera-403606-runs/{run_id}/original/{image_filename}.jpg\">\n",
        "          <img id=\"myImg\" class=\"headline\" src=\"https://storage.cloud.google.com/neon-camera-403606-runs/{run_id}/original/{image_filename}.jpg\" alt=\"My Image\" >\n",
        "        </a>\n",
        "      </div>\n",
        "      <div class=\"column\">\n",
        "        <p> Product Detection </p>\n",
        "        <a href=\"https://storage.cloud.google.com/neon-camera-403606-runs/{run_id}/detection/{image_filename}.jpg\">\n",
        "          <img class=\"headline\" src=\"https://storage.cloud.google.com/neon-camera-403606-runs/{run_id}/detection/{image_filename}.jpg\" alt=\"My Image\" >\n",
        "        </a>\n",
        "      </div>\n",
        "      <div class=\"column\">\n",
        "        <p> Product Recognition </p>\n",
        "        <a href=\"https://storage.cloud.google.com/neon-camera-403606-runs/{run_id}/consolidated/images/{image_filename}.jpg\">\n",
        "          <img class=\"headline\" src=\"https://storage.cloud.google.com/neon-camera-403606-runs/{run_id}/consolidated/images/{image_filename}.jpg\" alt=\"My Image\" >\n",
        "        </a>\n",
        "      </div>\n",
        "    </div>\n",
        "\n",
        "\n",
        "  <button type=\"button\" class=\"collapsible\">View Detail</button>\n",
        "  <div class='content'>\n",
        "  \"\"\"\n",
        "  for entry in result:\n",
        "    html = html + '\\n' + create_html_annotation_entry(entry)\n",
        "\n",
        "\n",
        "  html = html + \"\"\"\n",
        "  <script type=\"text/javascript\">\n",
        "    var coll = document.getElementsByClassName(\"collapsible\");\n",
        "  var i;\n",
        "\n",
        "  for (i = 0; i < coll.length; i++) {\n",
        "    coll[i].addEventListener(\"click\", function() {\n",
        "      this.classList.toggle(\"active\");\n",
        "      var content = this.nextElementSibling;\n",
        "      if (content.style.maxHeight){\n",
        "        content.style.maxHeight = null;\n",
        "      } else {\n",
        "        content.style.maxHeight = content.scrollHeight + \"px\";\n",
        "      }\n",
        "    });\n",
        "  }\n",
        "  </script>\n",
        "\n",
        "  </body>\n",
        "  </html>\n",
        "  \"\"\"\n",
        "\n",
        "  upload_blob_from_memory(RUNS_BUCKET, html, run_id + f'/report/{image_filename}.html', 'image/jpeg') #TODO: only creates the one page report\n",
        "\n"
      ],
      "metadata": {
        "id": "xwy7j1iSYiAz",
        "executionInfo": {
          "status": "ok",
          "timestamp": 1701221811401,
          "user_tz": -660,
          "elapsed": 6,
          "user": {
            "displayName": "",
            "userId": ""
          }
        }
      },
      "id": "xwy7j1iSYiAz",
      "execution_count": 39,
      "outputs": []
    },
    {
      "cell_type": "code",
      "source": [
        "css = \"\"\"\n",
        "html {\n",
        "  font-family: 'Roboto', sans-serif;\n",
        "}\n",
        "\n",
        ".headline  {\n",
        "  width: 100%;\n",
        "  height: auto;\n",
        "  border-radius: 5px;\n",
        "  cursor: pointer;\n",
        "  transition: 0.3s;\n",
        "}\n",
        "\n",
        ".headline:hover {opacity: 0.7;}\n",
        "\n",
        "\n",
        ".thumbnail {\n",
        "  max-height: 300px;\n",
        "}\n",
        "\n",
        ".thumbnail:hover {opacity: 0.7;}\n",
        "\n",
        ".row {\n",
        "  display: flex;\n",
        "}\n",
        "\n",
        "/* Create three equal columns that sits next to each other */\n",
        ".column {\n",
        "  flex: 33.33%;\n",
        "  padding: 5px;\n",
        "  text-align: center;\n",
        "}\n",
        "\n",
        "/****** Borders ********/\n",
        "/* Dashed border */\n",
        "hr.dashed {\n",
        "  border-top: 3px dashed #bbb;\n",
        "}\n",
        "\n",
        "/* Dotted border */\n",
        "hr.dotted {\n",
        "  border-top: 3px dotted #bbb;\n",
        "}\n",
        "\n",
        "/* Solid border */\n",
        "hr.solid {\n",
        "  border-top: 3px solid #bbb;\n",
        "}\n",
        "\n",
        "/* Rounded border */\n",
        "hr.rounded {\n",
        "  border-top: 8px solid #bbb;\n",
        "  border-radius: 5px;\n",
        "}\n",
        "\n",
        "/****** Collapsible ********/\n",
        "/* Style the button that is used to open and close the collapsible content */\n",
        ".collapsible {\n",
        "  background-color: #777;\n",
        "  color: white;\n",
        "  cursor: pointer;\n",
        "  padding: 18px;\n",
        "  width: 100%;\n",
        "  border: none;\n",
        "  text-align: left;\n",
        "  outline: none;\n",
        "  font-size: 15px;\n",
        "}\n",
        "\n",
        ".active, .collapsible:hover {\n",
        "  background-color: #555;\n",
        "}\n",
        "\n",
        ".collapsible:after {\n",
        "  content: '\\002B';\n",
        "  color: white;\n",
        "  font-weight: bold;\n",
        "  float: right;\n",
        "  margin-left: 5px;\n",
        "}\n",
        "\n",
        ".active:after {\n",
        "  content: \"\\2212\";\n",
        "}\n",
        "\n",
        ".content {\n",
        "  padding: 0 18px;\n",
        "  max-height: 0;\n",
        "  overflow: hidden;\n",
        "  transition: max-height 0.2s ease-out;\n",
        "  background-color: #f1f1f1;\n",
        "  display: grid;\n",
        "  grid-template-columns: 20% 20% 20% 20% 20%;\n",
        "}\n",
        "\n",
        "\n",
        "\n",
        "/********** Table Style *****************/\n",
        "tbody td {\n",
        "  /* 1. Animate the background-color\n",
        "     from transparent to white on hover */\n",
        "  background-color: rgba(255,255,255,0);\n",
        "  transition: all 0.2s linear;\n",
        "  transition-delay: 0.3s, 0s;\n",
        "  /* 2. Animate the opacity on hover */\n",
        "  opacity: 0.6;\n",
        "}\n",
        "tbody tr:hover td {\n",
        "  background-color: rgba(255,255,255,1);\n",
        "  transition-delay: 0s, 0s;\n",
        "  opacity: 1;\n",
        "  font-size: 2em;\n",
        "}\n",
        "\n",
        "td {\n",
        "  /* 3. Scale the text using transform on hover */\n",
        "  transform-origin: center left;\n",
        "  transition-property: transform;\n",
        "  transition-duration: 0.4s;\n",
        "  transition-timing-function: ease-in-out;\n",
        "}\n",
        "tr:hover td {\n",
        "  transform: scale(1.1);\n",
        "}\n",
        "\n",
        "\n",
        "table {\n",
        "  width: 90%;\n",
        "  margin: 0 5%;\n",
        "  text-align: left;\n",
        "}\n",
        "th, td {\n",
        "  padding: 0.5em;\n",
        "}\n",
        "\n",
        "/********** progress ************/\n",
        ".progress_container {\n",
        "  background-color: rgb(192, 192, 192);\n",
        "  width: 80%;\n",
        "  border-radius: 15px;\n",
        "}\n",
        "\n",
        "\n",
        "\"\"\"\n",
        "\n",
        "upload_blob_from_memory(RUNS_BUCKET, css, run_id + '/report/style.css', 'text/css')"
      ],
      "metadata": {
        "id": "UaRsnAvnYkhZ",
        "executionInfo": {
          "status": "ok",
          "timestamp": 1701221811401,
          "user_tz": -660,
          "elapsed": 6,
          "user": {
            "displayName": "",
            "userId": ""
          }
        }
      },
      "id": "UaRsnAvnYkhZ",
      "execution_count": 40,
      "outputs": []
    },
    {
      "cell_type": "markdown",
      "source": [
        "<div class=\"markdown-google-sans\">\n",
        "\n",
        "## Consolidate Data\n",
        "\n",
        "</div>"
      ],
      "metadata": {
        "id": "xVe7aimZe1bO"
      },
      "id": "xVe7aimZe1bO"
    },
    {
      "cell_type": "code",
      "source": [
        "result = load_json_blob(RUNS_BUCKET, run_id + '/'+ RECOGNITION_FOLDER + '/'+OPERATION_ID +'_product_recognition_predictions.jsonl')"
      ],
      "metadata": {
        "id": "Baf65xbgfRIR",
        "executionInfo": {
          "status": "ok",
          "timestamp": 1701221811949,
          "user_tz": -660,
          "elapsed": 554,
          "user": {
            "displayName": "",
            "userId": ""
          }
        }
      },
      "id": "Baf65xbgfRIR",
      "execution_count": 41,
      "outputs": []
    },
    {
      "cell_type": "code",
      "source": [
        "consolidate_entries = []\n",
        "for recognition_entry in result:\n",
        "  # get image uri from entry\n",
        "  original_file = recognition_entry['imageUri'].split('/')[-2]\n",
        "  image_index = int(recognition_entry['imageUri'].split('/')[-1].split('.')[0]) -1\n",
        "  # find the corresponding entry in bouding boxes entries\n",
        "  for detection_entry in bounding_boxes_entries:\n",
        "    detection_entry_filename = detection_entry['imageUri'].split('/')[-1].split('.')[0]\n",
        "\n",
        "    if detection_entry_filename == original_file:\n",
        "    # find the corresponding entry in bouding boxes entries\n",
        "      new_entry = recognition_entry\n",
        "      new_entry['product_detection_info'] = detection_entry['productRecognitionAnnotations'][image_index]\n",
        "      new_entry['original_image_uri'] = detection_entry['imageUri']\n",
        "      consolidate_entries.append(new_entry)\n",
        "\n",
        "upload_file(RUNS_BUCKET, json.dumps(consolidate_entries), run_id + '/consolidated/final.jsonl')"
      ],
      "metadata": {
        "id": "iqNO6X3re52y",
        "executionInfo": {
          "status": "ok",
          "timestamp": 1701221812464,
          "user_tz": -660,
          "elapsed": 517,
          "user": {
            "displayName": "",
            "userId": ""
          }
        }
      },
      "id": "iqNO6X3re52y",
      "execution_count": 42,
      "outputs": []
    },
    {
      "cell_type": "code",
      "source": [
        "original_images = []\n",
        "\n",
        "for entry in consolidate_entries:\n",
        "  original_image_uri = entry['original_image_uri']\n",
        "  original_images.append(original_image_uri)\n",
        "\n",
        "aux = set(original_images)\n",
        "aux = list(aux)\n",
        "\n",
        "original_images = aux"
      ],
      "metadata": {
        "id": "DL96ZR1NipoC",
        "executionInfo": {
          "status": "ok",
          "timestamp": 1701221812464,
          "user_tz": -660,
          "elapsed": 5,
          "user": {
            "displayName": "",
            "userId": ""
          }
        }
      },
      "id": "DL96ZR1NipoC",
      "execution_count": 43,
      "outputs": []
    },
    {
      "cell_type": "code",
      "source": [
        "print(original_images)\n",
        "for original_image in original_images:\n",
        "\n",
        "  image = read_image_from_storage(original_image)\n",
        "\n",
        "  # draw bounding boxes for product detection\n",
        "\n",
        "  for entry in consolidate_entries:\n",
        "    if entry['original_image_uri'] == original_image:\n",
        "      if(len(entry['productRecognitionAnnotations'][0]['recognitionResults']) > 0):\n",
        "        color = PRODUCT_IDENTIFIED_BOX_COLOR\n",
        "      else:\n",
        "        color = PRODUCT_NOT_IDENTIFIED_BOX_COLOR\n",
        "      draw_bounding_boxes_from_annotation(image, entry['product_detection_info'], color)\n",
        "\n",
        "  original_filename = original_image.split('/')[-1]\n",
        "  print(f'Writing {original_filename}')\n",
        "  write_image_to_storage(image, RUNS_BUCKET, run_id+'/consolidated/images/'+original_filename)\n",
        "\n"
      ],
      "metadata": {
        "id": "gL9KpmMOjpbJ",
        "colab": {
          "base_uri": "https://localhost:8080/"
        },
        "executionInfo": {
          "status": "ok",
          "timestamp": 1701221821367,
          "user_tz": -660,
          "elapsed": 8907,
          "user": {
            "displayName": "",
            "userId": ""
          }
        },
        "outputId": "87c64fdb-61d8-4694-e3a0-12e0dc58a608"
      },
      "id": "gL9KpmMOjpbJ",
      "execution_count": 44,
      "outputs": [
        {
          "output_type": "stream",
          "name": "stdout",
          "text": [
            "['gs://neon-camera-403606-runs/bread__20231129-000523/original/bread_01_20231123151322163.jpg', 'gs://neon-camera-403606-runs/bread__20231129-000523/original/bread_01_20231123151518685.jpg', 'gs://neon-camera-403606-runs/bread__20231129-000523/original/bread_01_20231123151450507.jpg', 'gs://neon-camera-403606-runs/bread__20231129-000523/original/bread_01_20231123150843664.jpg', 'gs://neon-camera-403606-runs/bread__20231129-000523/original/bread_01_20231123151456929.jpg', 'gs://neon-camera-403606-runs/bread__20231129-000523/original/bread_01_20231123150813480.jpg', 'gs://neon-camera-403606-runs/bread__20231129-000523/original/bread_01_2023112315065777.jpg', 'gs://neon-camera-403606-runs/bread__20231129-000523/original/bread_01_20231123150913646.jpg', 'gs://neon-camera-403606-runs/bread__20231129-000523/original/bread_01_20231123150709403.jpg', 'gs://neon-camera-403606-runs/bread__20231129-000523/original/bread_01_202311231508534.jpg', 'gs://neon-camera-403606-runs/bread__20231129-000523/original/bread_01_20231123150944467.jpg', 'gs://neon-camera-403606-runs/bread__20231129-000523/original/bread_01_20231123150900345.jpg', 'gs://neon-camera-403606-runs/bread__20231129-000523/original/bread_01_20231123151424672.jpg', 'gs://neon-camera-403606-runs/bread__20231129-000523/original/bread_01_20231123150928101.jpg', 'gs://neon-camera-403606-runs/bread__20231129-000523/original/bread_01_20231123151505513.jpg']\n",
            "Writing bread_01_20231123151322163.jpg\n",
            "Writing bread_01_20231123151518685.jpg\n",
            "Writing bread_01_20231123151450507.jpg\n",
            "Writing bread_01_20231123150843664.jpg\n",
            "Writing bread_01_20231123151456929.jpg\n",
            "Writing bread_01_20231123150813480.jpg\n",
            "Writing bread_01_2023112315065777.jpg\n",
            "Writing bread_01_20231123150913646.jpg\n",
            "Writing bread_01_20231123150709403.jpg\n",
            "Writing bread_01_202311231508534.jpg\n",
            "Writing bread_01_20231123150944467.jpg\n",
            "Writing bread_01_20231123150900345.jpg\n",
            "Writing bread_01_20231123151424672.jpg\n",
            "Writing bread_01_20231123150928101.jpg\n",
            "Writing bread_01_20231123151505513.jpg\n"
          ]
        }
      ]
    },
    {
      "cell_type": "markdown",
      "source": [
        "<div class=\"markdown-google-sans\">\n",
        "\n",
        "## Create Report\n",
        "\n",
        "</div>"
      ],
      "metadata": {
        "id": "0fuRa2ACYplE"
      },
      "id": "0fuRa2ACYplE"
    },
    {
      "cell_type": "code",
      "source": [
        "def create_report(entry, run_id):\n",
        "  original_image_uri = entry['original_image_uri']\n",
        "  original_image_filename = entry['original_image_filename']\n",
        "  entries = entry['entries']\n",
        "  metrics = create_image_metrics(entries)\n",
        "  create_image_html( original_image_filename, metrics, entries, run_id)"
      ],
      "metadata": {
        "id": "HRbfDskKlgDA",
        "executionInfo": {
          "status": "ok",
          "timestamp": 1701221821367,
          "user_tz": -660,
          "elapsed": 8,
          "user": {
            "displayName": "",
            "userId": ""
          }
        }
      },
      "id": "HRbfDskKlgDA",
      "execution_count": 45,
      "outputs": []
    },
    {
      "cell_type": "code",
      "source": [
        "overall_result = []\n",
        "for original_image in original_images:\n",
        "  print(f'creating dict for {original_image}')\n",
        "  entries = []\n",
        "  for entry in consolidate_entries:\n",
        "    if entry['original_image_uri'] == original_image:\n",
        "      entries.append(entry)\n",
        "  original_filename = original_image.split('/')[-1].split('.')[0]\n",
        "\n",
        "  overall_result.append({\n",
        "    'original_image_uri': original_image,\n",
        "    'original_image_filename': original_filename,\n",
        "    'entries': entries\n",
        "  })"
      ],
      "metadata": {
        "id": "KXb1Itnjksps",
        "colab": {
          "base_uri": "https://localhost:8080/"
        },
        "executionInfo": {
          "status": "ok",
          "timestamp": 1701221821367,
          "user_tz": -660,
          "elapsed": 7,
          "user": {
            "displayName": "",
            "userId": ""
          }
        },
        "outputId": "8aa08a33-b2a6-4840-bdbb-143481dbde86"
      },
      "id": "KXb1Itnjksps",
      "execution_count": 46,
      "outputs": [
        {
          "output_type": "stream",
          "name": "stdout",
          "text": [
            "creating dict for gs://neon-camera-403606-runs/bread__20231129-000523/original/bread_01_20231123151322163.jpg\n",
            "creating dict for gs://neon-camera-403606-runs/bread__20231129-000523/original/bread_01_20231123151518685.jpg\n",
            "creating dict for gs://neon-camera-403606-runs/bread__20231129-000523/original/bread_01_20231123151450507.jpg\n",
            "creating dict for gs://neon-camera-403606-runs/bread__20231129-000523/original/bread_01_20231123150843664.jpg\n",
            "creating dict for gs://neon-camera-403606-runs/bread__20231129-000523/original/bread_01_20231123151456929.jpg\n",
            "creating dict for gs://neon-camera-403606-runs/bread__20231129-000523/original/bread_01_20231123150813480.jpg\n",
            "creating dict for gs://neon-camera-403606-runs/bread__20231129-000523/original/bread_01_2023112315065777.jpg\n",
            "creating dict for gs://neon-camera-403606-runs/bread__20231129-000523/original/bread_01_20231123150913646.jpg\n",
            "creating dict for gs://neon-camera-403606-runs/bread__20231129-000523/original/bread_01_20231123150709403.jpg\n",
            "creating dict for gs://neon-camera-403606-runs/bread__20231129-000523/original/bread_01_202311231508534.jpg\n",
            "creating dict for gs://neon-camera-403606-runs/bread__20231129-000523/original/bread_01_20231123150944467.jpg\n",
            "creating dict for gs://neon-camera-403606-runs/bread__20231129-000523/original/bread_01_20231123150900345.jpg\n",
            "creating dict for gs://neon-camera-403606-runs/bread__20231129-000523/original/bread_01_20231123151424672.jpg\n",
            "creating dict for gs://neon-camera-403606-runs/bread__20231129-000523/original/bread_01_20231123150928101.jpg\n",
            "creating dict for gs://neon-camera-403606-runs/bread__20231129-000523/original/bread_01_20231123151505513.jpg\n"
          ]
        }
      ]
    },
    {
      "cell_type": "markdown",
      "source": [
        "Create pages for all individual images that are part of the run"
      ],
      "metadata": {
        "id": "R3XwqfqGqQhu"
      },
      "id": "R3XwqfqGqQhu"
    },
    {
      "cell_type": "code",
      "source": [
        "for entry in overall_result:\n",
        "  print(f'creating report for {entry[\"original_image_uri\"]}')\n",
        "  create_report(entry, run_id)"
      ],
      "metadata": {
        "id": "raWYxOTAhklt",
        "colab": {
          "base_uri": "https://localhost:8080/"
        },
        "executionInfo": {
          "status": "ok",
          "timestamp": 1701221824399,
          "user_tz": -660,
          "elapsed": 3037,
          "user": {
            "displayName": "",
            "userId": ""
          }
        },
        "outputId": "7efe20b8-4f6d-4de6-d373-c42d79f43688"
      },
      "id": "raWYxOTAhklt",
      "execution_count": 47,
      "outputs": [
        {
          "output_type": "stream",
          "name": "stdout",
          "text": [
            "creating report for gs://neon-camera-403606-runs/bread__20231129-000523/original/bread_01_20231123151322163.jpg\n",
            "creating report for gs://neon-camera-403606-runs/bread__20231129-000523/original/bread_01_20231123151518685.jpg\n",
            "creating report for gs://neon-camera-403606-runs/bread__20231129-000523/original/bread_01_20231123151450507.jpg\n",
            "creating report for gs://neon-camera-403606-runs/bread__20231129-000523/original/bread_01_20231123150843664.jpg\n",
            "creating report for gs://neon-camera-403606-runs/bread__20231129-000523/original/bread_01_20231123151456929.jpg\n",
            "creating report for gs://neon-camera-403606-runs/bread__20231129-000523/original/bread_01_20231123150813480.jpg\n",
            "creating report for gs://neon-camera-403606-runs/bread__20231129-000523/original/bread_01_2023112315065777.jpg\n",
            "creating report for gs://neon-camera-403606-runs/bread__20231129-000523/original/bread_01_20231123150913646.jpg\n",
            "creating report for gs://neon-camera-403606-runs/bread__20231129-000523/original/bread_01_20231123150709403.jpg\n",
            "creating report for gs://neon-camera-403606-runs/bread__20231129-000523/original/bread_01_202311231508534.jpg\n",
            "creating report for gs://neon-camera-403606-runs/bread__20231129-000523/original/bread_01_20231123150944467.jpg\n",
            "creating report for gs://neon-camera-403606-runs/bread__20231129-000523/original/bread_01_20231123150900345.jpg\n",
            "creating report for gs://neon-camera-403606-runs/bread__20231129-000523/original/bread_01_20231123151424672.jpg\n",
            "creating report for gs://neon-camera-403606-runs/bread__20231129-000523/original/bread_01_20231123150928101.jpg\n",
            "creating report for gs://neon-camera-403606-runs/bread__20231129-000523/original/bread_01_20231123151505513.jpg\n"
          ]
        }
      ]
    },
    {
      "cell_type": "markdown",
      "source": [
        "Create an overview page"
      ],
      "metadata": {
        "id": "fxEHc_WVqWDI"
      },
      "id": "fxEHc_WVqWDI"
    },
    {
      "cell_type": "code",
      "source": [
        "def create_index_table(run_id, image_filename):\n",
        "\n",
        "  return f\"\"\"\n",
        "   <div class=\"row\">\n",
        "\n",
        "      <div class=\"column\">\n",
        "\n",
        "        <a href=\"{image_filename}.html\">\n",
        "          <p> Image: {image_filename} </p>\n",
        "        </a>\n",
        "      </div>\n",
        "      <div class=\"column\">\n",
        "        <p> Product Recognition </p>\n",
        "        <a href=\"https://storage.cloud.google.com/neon-camera-403606-runs/{run_id}/consolidated/images/{image_filename}.jpg\">\n",
        "          <img class=\"headline\" src=\"https://storage.cloud.google.com/neon-camera-403606-runs/{run_id}/consolidated/images/{image_filename}.jpg\" alt=\"My Image\" >\n",
        "        </a>\n",
        "      </div>\n",
        "    </div>\n",
        "  \"\"\"\n"
      ],
      "metadata": {
        "id": "oCxD84TKrNDE",
        "executionInfo": {
          "status": "ok",
          "timestamp": 1701221824399,
          "user_tz": -660,
          "elapsed": 8,
          "user": {
            "displayName": "",
            "userId": ""
          }
        }
      },
      "id": "oCxD84TKrNDE",
      "execution_count": 48,
      "outputs": []
    },
    {
      "cell_type": "code",
      "source": [
        "def create_index_page(metrics, run_id):\n",
        "  overall_html= f\"\"\"\n",
        "\n",
        "  <!DOCTYPE html>\n",
        "  <html>\n",
        "  <head>\n",
        "  <title>Run Report</title>\n",
        "  <link rel=\"stylesheet\" href=\"style.css\">\n",
        "  <link rel=\"preconnect\" href=\"https://fonts.googleapis.com\">\n",
        "  <link rel=\"preconnect\" href=\"https://fonts.gstatic.com\" crossorigin>\n",
        "  <link href=\"https://fonts.googleapis.com/css2?family=Roboto:wght@300&display=swap\" rel=\"stylesheet\">\n",
        "\n",
        "  </head>\n",
        "  <body>\n",
        "\n",
        "    <h1> Run ID: {run_id} </h1>\n",
        "\n",
        "\n",
        "    <table>\n",
        "    <thead>\n",
        "      <tr>\n",
        "        <th>Metric</th>\n",
        "        <th>Value</th>\n",
        "        <th>%</th>\n",
        "      </tr>\n",
        "    </thead>\n",
        "    <tbody>\n",
        "      <tr>\n",
        "        <td>Products Facings</td>\n",
        "        <td>{metrics['no_product_facing']}</td>\n",
        "        <td>-</td>\n",
        "      </tr>\n",
        "      <tr>\n",
        "        <td>Recognized Products</td>\n",
        "        <td>{metrics['no_recognized_products']}</td>\n",
        "        <td>{ round(metrics['no_recognized_products'] / metrics['no_product_facing'], 2)}</td>\n",
        "      </tr>\n",
        "      <tr>\n",
        "        <td>Unrecognized Products</td>\n",
        "        <td>{metrics['no_unrecognized_products']}</td>\n",
        "        <td>{round(metrics['no_unrecognized_products'] / metrics['no_product_facing'], 2)}</td>\n",
        "      </tr>\n",
        "      <tr>\n",
        "        <td>Recognize Products(unique) </td>\n",
        "        <td>{len(metrics['unique_products'])}</td>\n",
        "        <td>-</td>\n",
        "      </tr>\n",
        "      <tr>\n",
        "        <td>Average Recognition Confidence</td>\n",
        "        <td>{ round(metrics['average_confidence'], 2)}</td>\n",
        "        <td>-</td>\n",
        "      </tr>\n",
        "    </tbody>\n",
        "  </table>\n",
        "  \"\"\"\n",
        "\n",
        "  for entry in overall_result:\n",
        "    overall_html = overall_html + '\\n' + create_index_table(run_id, entry['original_image_filename'])\n",
        "\n",
        "\n",
        "  overall_html = overall_html + \"\"\"\n",
        "  </body>\n",
        "  </html>\n",
        "  \"\"\"\n",
        "\n",
        "  upload_blob_from_memory(RUNS_BUCKET, overall_html, run_id + f'/report/index.html', 'text/html')\n",
        "\n"
      ],
      "metadata": {
        "id": "bcODKhoDquxe",
        "executionInfo": {
          "status": "ok",
          "timestamp": 1701221824399,
          "user_tz": -660,
          "elapsed": 7,
          "user": {
            "displayName": "",
            "userId": ""
          }
        }
      },
      "id": "bcODKhoDquxe",
      "execution_count": 49,
      "outputs": []
    },
    {
      "cell_type": "code",
      "source": [
        "metrics = create_image_metrics(result)\n",
        "print(metrics)\n",
        "\n",
        "create_index_page(metrics, run_id)"
      ],
      "metadata": {
        "id": "tNdCUNZMqZix",
        "colab": {
          "base_uri": "https://localhost:8080/"
        },
        "executionInfo": {
          "status": "ok",
          "timestamp": 1701221824399,
          "user_tz": -660,
          "elapsed": 6,
          "user": {
            "displayName": "",
            "userId": ""
          }
        },
        "outputId": "d15a0e4e-b17d-4d0b-c46f-fc5c0f66ad94"
      },
      "id": "tNdCUNZMqZix",
      "execution_count": 50,
      "outputs": [
        {
          "output_type": "stream",
          "name": "stdout",
          "text": [
            "{'no_product_facing': 1234, 'no_recognized_products': 875, 'no_unrecognized_products': 359, 'average_confidence': 0.5124485186514282, 'unique_products': ['9310023145925', '9310023138705', '9310023136657', '9339423005042', '280180000001', '9339423004809', '19334169000679', '9300633588458', '9310023145505', '5000221604600', '19334169000938', '5060195909699', '9317224401676', '9310023145499', '9334169000924', '8001585011223', '9343335001665', '9310043009900', '9317224401362', '5000221653172', '9300605003316', '19330856000205', '19339687189004', '5391521692948', '9339423009347', '19339423007036', '9310023145512', '19317224401178', '9339687189014', '5000221603184', '19317224404834', '9300633636920', '9348854009000', '9339687188994', '9300633636937', '19317224404308', '19339423007043', '5391521690470', '19339423009078', '19339423009061', '19317224401505', '9310043005629', '19339687295187', '9339423008678', '280182000009', '9300633554439', '9339687067596', '19334169000556', '9339687074204', '9339423007282', '9339423004816', '19317224401635', '19317224404292', '19339687165053', '9310023145482', '5000221556862', '19317224403714', '9310023145932', '19343335001679', '9339687173112', '9339423008418', '5000221650072', '5391521693518', '9300633638078', '9300633636838']}\n"
          ]
        }
      ]
    }
  ]
}