{
  "metadata": {
    "kernelspec": {
      "name": "python3",
      "display_name": "Python 3 (ipykernel)",
      "language": "python"
    },
    "language_info": {
      "name": "python",
      "version": "3.10.4",
      "mimetype": "text/x-python",
      "codemirror_mode": {
        "name": "ipython",
        "version": 3
      },
      "pygments_lexer": "ipython3",
      "nbconvert_exporter": "python",
      "file_extension": ".py"
    },
    "colab": {
      "provenance": [],
      "collapsed_sections": [
        "NmwgHRhlIWP9",
        "Chnxr9JBbSJ3",
        "vxQBpNvIUgue"
      ],
      "toc_visible": true
    }
  },
  "nbformat_minor": 5,
  "nbformat": 4,
  "cells": [
    {
      "cell_type": "code",
      "source": [
        "# Copyright 2023 Google LLC\n",
        "#\n",
        "# Licensed under the Apache License, Version 2.0 (the \"License\");\n",
        "# you may not use this file except in compliance with the License.\n",
        "# You may obtain a copy of the License at\n",
        "#\n",
        "#     https://www.apache.org/licenses/LICENSE-2.0\n",
        "#\n",
        "# Unless required by applicable law or agreed to in writing, software\n",
        "# distributed under the License is distributed on an \"AS IS\" BASIS,\n",
        "# WITHOUT WARRANTIES OR CONDITIONS OF ANY KIND, either express or implied.\n",
        "# See the License for the specific language governing permissions and\n",
        "# limitations under the License."
      ],
      "metadata": {
        "id": "voo66K7ve9rg"
      },
      "id": "voo66K7ve9rg",
      "execution_count": null,
      "outputs": []
    },
    {
      "cell_type": "markdown",
      "source": [
        "<div class=\"markdown-google-sans\">\n",
        "\n",
        "# Product & Tag Recognizer - Building your catalog<img src=\"https://lh3.googleusercontent.com/UiNooY4LUgW_oTvpsNhPpQzsstV5W8F7rYgxgGBD85cWJoLmrOzhVs_ksK_vgx40SHs7jCqkTkCk=e14-rj-sc0xffffff-h130-w32\" alt=\"Vertex AI logo\">\n",
        "</div>\n",
        "\n"
      ],
      "metadata": {
        "id": "7aZWXpbf0Eph"
      },
      "id": "7aZWXpbf0Eph"
    },
    {
      "cell_type": "markdown",
      "source": [
        "<div class=\"markdown-google-sans\">\n",
        "\n",
        "## **Setup**\n",
        "</div>\n",
        "\n",
        "Installing required python libraries"
      ],
      "metadata": {
        "id": "OQ_SlL0K1Cw6"
      },
      "id": "OQ_SlL0K1Cw6"
    },
    {
      "cell_type": "code",
      "source": [
        "!pip install google-cloud-storage pandas"
      ],
      "metadata": {
        "trusted": true,
        "id": "35856bf2-aa5e-436b-977a-9e5725b1a595",
        "colab": {
          "base_uri": "https://localhost:8080/"
        },
        "executionInfo": {
          "status": "ok",
          "timestamp": 1707104662520,
          "user_tz": -660,
          "elapsed": 15034,
          "user": {
            "displayName": "",
            "userId": ""
          }
        },
        "outputId": "696d9b25-079f-4493-a90e-ed3473b452a5"
      },
      "execution_count": 1,
      "outputs": [
        {
          "output_type": "stream",
          "name": "stdout",
          "text": [
            "Requirement already satisfied: google-cloud-storage in /usr/local/lib/python3.10/dist-packages (2.8.0)\n",
            "Requirement already satisfied: pandas in /usr/local/lib/python3.10/dist-packages (1.5.3)\n",
            "Requirement already satisfied: google-auth<3.0dev,>=1.25.0 in /usr/local/lib/python3.10/dist-packages (from google-cloud-storage) (2.17.3)\n",
            "Requirement already satisfied: google-api-core!=2.0.*,!=2.1.*,!=2.2.*,!=2.3.0,<3.0.0dev,>=1.31.5 in /usr/local/lib/python3.10/dist-packages (from google-cloud-storage) (2.11.1)\n",
            "Requirement already satisfied: google-cloud-core<3.0dev,>=2.3.0 in /usr/local/lib/python3.10/dist-packages (from google-cloud-storage) (2.3.3)\n",
            "Requirement already satisfied: google-resumable-media>=2.3.2 in /usr/local/lib/python3.10/dist-packages (from google-cloud-storage) (2.7.0)\n",
            "Requirement already satisfied: requests<3.0.0dev,>=2.18.0 in /usr/local/lib/python3.10/dist-packages (from google-cloud-storage) (2.31.0)\n",
            "Requirement already satisfied: python-dateutil>=2.8.1 in /usr/local/lib/python3.10/dist-packages (from pandas) (2.8.2)\n",
            "Requirement already satisfied: pytz>=2020.1 in /usr/local/lib/python3.10/dist-packages (from pandas) (2023.3.post1)\n",
            "Requirement already satisfied: numpy>=1.21.0 in /usr/local/lib/python3.10/dist-packages (from pandas) (1.23.5)\n",
            "Requirement already satisfied: googleapis-common-protos<2.0.dev0,>=1.56.2 in /usr/local/lib/python3.10/dist-packages (from google-api-core!=2.0.*,!=2.1.*,!=2.2.*,!=2.3.0,<3.0.0dev,>=1.31.5->google-cloud-storage) (1.62.0)\n",
            "Requirement already satisfied: protobuf!=3.20.0,!=3.20.1,!=4.21.0,!=4.21.1,!=4.21.2,!=4.21.3,!=4.21.4,!=4.21.5,<5.0.0.dev0,>=3.19.5 in /usr/local/lib/python3.10/dist-packages (from google-api-core!=2.0.*,!=2.1.*,!=2.2.*,!=2.3.0,<3.0.0dev,>=1.31.5->google-cloud-storage) (3.20.3)\n",
            "Requirement already satisfied: cachetools<6.0,>=2.0.0 in /usr/local/lib/python3.10/dist-packages (from google-auth<3.0dev,>=1.25.0->google-cloud-storage) (5.3.2)\n",
            "Requirement already satisfied: pyasn1-modules>=0.2.1 in /usr/local/lib/python3.10/dist-packages (from google-auth<3.0dev,>=1.25.0->google-cloud-storage) (0.3.0)\n",
            "Requirement already satisfied: six>=1.9.0 in /usr/local/lib/python3.10/dist-packages (from google-auth<3.0dev,>=1.25.0->google-cloud-storage) (1.16.0)\n",
            "Requirement already satisfied: rsa<5,>=3.1.4 in /usr/local/lib/python3.10/dist-packages (from google-auth<3.0dev,>=1.25.0->google-cloud-storage) (4.9)\n",
            "Requirement already satisfied: google-crc32c<2.0dev,>=1.0 in /usr/local/lib/python3.10/dist-packages (from google-resumable-media>=2.3.2->google-cloud-storage) (1.5.0)\n",
            "Requirement already satisfied: charset-normalizer<4,>=2 in /usr/local/lib/python3.10/dist-packages (from requests<3.0.0dev,>=2.18.0->google-cloud-storage) (3.3.2)\n",
            "Requirement already satisfied: idna<4,>=2.5 in /usr/local/lib/python3.10/dist-packages (from requests<3.0.0dev,>=2.18.0->google-cloud-storage) (3.6)\n",
            "Requirement already satisfied: urllib3<3,>=1.21.1 in /usr/local/lib/python3.10/dist-packages (from requests<3.0.0dev,>=2.18.0->google-cloud-storage) (2.0.7)\n",
            "Requirement already satisfied: certifi>=2017.4.17 in /usr/local/lib/python3.10/dist-packages (from requests<3.0.0dev,>=2.18.0->google-cloud-storage) (2023.11.17)\n",
            "Requirement already satisfied: pyasn1<0.6.0,>=0.4.6 in /usr/local/lib/python3.10/dist-packages (from pyasn1-modules>=0.2.1->google-auth<3.0dev,>=1.25.0->google-cloud-storage) (0.5.1)\n"
          ]
        }
      ],
      "id": "35856bf2-aa5e-436b-977a-9e5725b1a595"
    },
    {
      "cell_type": "code",
      "source": [
        "import pandas as pd\n",
        "from google.cloud import storage\n",
        "\n",
        "import json\n",
        "import math\n",
        "\n",
        "import time\n",
        "\n",
        "from tqdm import tqdm\n"
      ],
      "metadata": {
        "id": "3Th93EQWjueN",
        "executionInfo": {
          "status": "ok",
          "timestamp": 1707104708892,
          "user_tz": -660,
          "elapsed": 425,
          "user": {
            "displayName": "",
            "userId": ""
          }
        }
      },
      "id": "3Th93EQWjueN",
      "execution_count": 2,
      "outputs": []
    },
    {
      "cell_type": "markdown",
      "source": [
        "<div class=\"markdown-google-sans\">\n",
        "\n",
        "### **Environment variables**\n",
        "</div>\n"
      ],
      "metadata": {
        "id": "zgQHkOjFfYhy"
      },
      "id": "zgQHkOjFfYhy"
    },
    {
      "cell_type": "code",
      "source": [
        "PROJECT_ID='neon-camera-403606'\n",
        "CATALOG_ID='neon-camera-catalog-labelled'\n",
        "INDEX_ID='labelled-001'\n",
        "ENDPOINT_ID='labelled-001'\n",
        "LOCATION = 'us-central1'\n",
        "\n",
        "# you can ingest data from google cloud storage or directly from a bigquery\n",
        "# in this example we will use cloud storage\n",
        "INPUT_BUCKET='gs://neon-camera-403606-catalog'\n",
        "INPUT_FILE='ww_products.csv'\n",
        "\n",
        "#optional output in case you want to check the knowledge graph coverage of your items\n",
        "COVERAGE_CSV_OUTPUT_DIRECTORY = 'gs://neon-camera-403606-output'\n"
      ],
      "metadata": {
        "id": "s8KSunMihq9r",
        "executionInfo": {
          "status": "ok",
          "timestamp": 1707104712167,
          "user_tz": -660,
          "elapsed": 472,
          "user": {
            "displayName": "",
            "userId": ""
          }
        }
      },
      "id": "s8KSunMihq9r",
      "execution_count": 3,
      "outputs": []
    },
    {
      "cell_type": "markdown",
      "source": [
        "<div class=\"markdown-google-sans\">\n",
        "\n",
        "### **GCS Functions**\n",
        "</div>\n",
        "\n",
        "Section with the common functions that we will require.\n"
      ],
      "metadata": {
        "id": "NmwgHRhlIWP9"
      },
      "id": "NmwgHRhlIWP9"
    },
    {
      "cell_type": "code",
      "source": [
        "def upload_blob(bucket_name, source_file_name, destination_blob_name):\n",
        "    \"\"\"Uploads a file to the bucket.\"\"\"\n",
        "    # The ID of your GCS bucket\n",
        "    # bucket_name = \"your-bucket-name\"\n",
        "    # The path to your file to upload\n",
        "    # source_file_name = \"local/path/to/file\"\n",
        "    # The ID of your GCS object\n",
        "    # destination_blob_name = \"storage-object-name\"\n",
        "\n",
        "    #contains gs:// remove it\n",
        "    bucket_name = bucket_name.replace('gs://','')\n",
        "\n",
        "    storage_client = storage.Client()\n",
        "    bucket = storage_client.bucket(bucket_name)\n",
        "    blob = bucket.blob(destination_blob_name)\n",
        "\n",
        "\n",
        "    blob.upload_from_filename(source_file_name, )\n"
      ],
      "metadata": {
        "id": "-Ki2rsGypGfa",
        "executionInfo": {
          "status": "ok",
          "timestamp": 1707104716380,
          "user_tz": -660,
          "elapsed": 426,
          "user": {
            "displayName": "",
            "userId": ""
          }
        }
      },
      "id": "-Ki2rsGypGfa",
      "execution_count": 4,
      "outputs": []
    },
    {
      "cell_type": "code",
      "source": [
        "#create a functions that gives you the files in a given bucket\n",
        "def list_blobs(bucket_name):\n",
        "    #contains gs:// remove it\n",
        "    bucket_name = bucket_name.replace('gs://','')\n",
        "\n",
        "    \"\"\"Lists all the blobs in the bucket.\"\"\"\n",
        "\n",
        "    storage_client = storage.Client()\n",
        "\n",
        "    blobs = storage_client.list_blobs(bucket_name)\n",
        "\n",
        "    return blobs\n"
      ],
      "metadata": {
        "id": "BD_hiZDSXTeY",
        "executionInfo": {
          "status": "ok",
          "timestamp": 1707104716797,
          "user_tz": -660,
          "elapsed": 4,
          "user": {
            "displayName": "",
            "userId": ""
          }
        }
      },
      "execution_count": 5,
      "outputs": [],
      "id": "BD_hiZDSXTeY"
    },
    {
      "cell_type": "code",
      "source": [
        "\n",
        "def list_blobs_prefix(bucket_name, path_prefix, skip_folders=True):\n",
        "    \"\"\"Lists all the blobs in the bucket and returns the one that satisfy\n",
        "    a prefix\"\"\"\n",
        "    #contains gs:// remove it\n",
        "    bucket_name = bucket_name.replace('gs://','')\n",
        "\n",
        "    storage_client = storage.Client()\n",
        "\n",
        "    blobs = storage_client.list_blobs(bucket_name)\n",
        "\n",
        "    res =[]\n",
        "    for blob in blobs:\n",
        "\n",
        "      if(blob.name.startswith(path_prefix)):\n",
        "        if(skip_folders):\n",
        "          if(blob.name.endswith('/')):\n",
        "            continue\n",
        "        res.append(blob.name)\n",
        "    return res"
      ],
      "metadata": {
        "id": "6DJ57OEN0Uwq",
        "executionInfo": {
          "status": "ok",
          "timestamp": 1707104716797,
          "user_tz": -660,
          "elapsed": 3,
          "user": {
            "displayName": "",
            "userId": ""
          }
        }
      },
      "execution_count": 6,
      "outputs": [],
      "id": "6DJ57OEN0Uwq"
    },
    {
      "cell_type": "code",
      "source": [
        "def upload_blob_from_memory(bucket_name, contents, destination_blob_name):\n",
        "    \"\"\"Uploads a file to the bucket.\"\"\"\n",
        "\n",
        "    #contains gs:// remove it\n",
        "    bucket_name = bucket_name.replace('gs://','')\n",
        "\n",
        "    # The ID of your GCS bucket\n",
        "    # bucket_name = \"your-bucket-name\"\n",
        "\n",
        "    # The contents to upload to the file\n",
        "    # contents = \"these are my contents\"\n",
        "\n",
        "    # The ID of your GCS object\n",
        "    # destination_blob_name = \"storage-object-name\"\n",
        "\n",
        "    storage_client = storage.Client()\n",
        "    bucket = storage_client.bucket(bucket_name)\n",
        "    blob = bucket.blob(destination_blob_name)\n",
        "\n",
        "    blob.upload_from_string(contents)"
      ],
      "metadata": {
        "id": "JYoqRryFbQpg",
        "executionInfo": {
          "status": "ok",
          "timestamp": 1707104716797,
          "user_tz": -660,
          "elapsed": 3,
          "user": {
            "displayName": "",
            "userId": ""
          }
        }
      },
      "execution_count": 7,
      "outputs": [],
      "id": "JYoqRryFbQpg"
    },
    {
      "cell_type": "code",
      "source": [
        "def create_run_file(run_id, bucket_name, contents, destination_blob_name):\n",
        "    \"\"\"Uploads a file to the bucket.\"\"\"\n",
        "    #contains gs:// remove it\n",
        "    bucket_name = RUNS_BUCKET.replace('gs://','')\n",
        "\n",
        "    storage_client = storage.Client()\n",
        "    bucket = storage_client.bucket(bucket_name)\n",
        "    blob = bucket.blob(run_id+'/'+destination_blob_name)\n",
        "\n",
        "    blob.upload_from_string(contents)\n",
        "\n",
        "    print(\n",
        "        f\"{destination_blob_name} with contents {contents} uploaded to {bucket_name}.\"\n",
        "    )"
      ],
      "metadata": {
        "id": "jvfVMWtVfC0d",
        "executionInfo": {
          "status": "ok",
          "timestamp": 1707104716797,
          "user_tz": -660,
          "elapsed": 3,
          "user": {
            "displayName": "",
            "userId": ""
          }
        }
      },
      "execution_count": 8,
      "outputs": [],
      "id": "jvfVMWtVfC0d"
    },
    {
      "cell_type": "code",
      "source": [
        "def upload_file(bucket_name, contents, destination_blob_name):\n",
        "    \"\"\"Uploads a file to the bucket.\"\"\"\n",
        "    #contains gs:// remove it\n",
        "    bucket_name = bucket_name.replace('gs://','')\n",
        "\n",
        "    storage_client = storage.Client()\n",
        "    bucket = storage_client.bucket(bucket_name)\n",
        "    blob = bucket.blob(destination_blob_name)\n",
        "    blob.upload_from_string(contents)"
      ],
      "metadata": {
        "id": "NA0b1zRX1Iz-",
        "executionInfo": {
          "status": "ok",
          "timestamp": 1707104716797,
          "user_tz": -660,
          "elapsed": 3,
          "user": {
            "displayName": "",
            "userId": ""
          }
        }
      },
      "execution_count": 9,
      "outputs": [],
      "id": "NA0b1zRX1Iz-"
    },
    {
      "cell_type": "code",
      "source": [
        "def load_json_blob(bucket_name, blob_name):\n",
        "    \"\"\"Loads a blob from the bucket.\"\"\"\n",
        "    #contains gs:// remove it\n",
        "    bucket_name = bucket_name.replace('gs://','')\n",
        "\n",
        "    # Instantiate a Google Cloud Storage client and specify required bucket and file\n",
        "    storage_client = storage.Client()\n",
        "    bucket = storage_client.get_bucket(bucket_name)\n",
        "    blob = bucket.blob(blob_name)\n",
        "\n",
        "    raw_data = blob.download_as_text(client=None)\n",
        "    temp = raw_data.split('\\n')\n",
        "\n",
        "    data = [json.loads(line) for line in temp[:-1]]\n",
        "\n",
        "    # Download the contents of the blob as a string and then parse it using json.loads() method\n",
        "    return data"
      ],
      "metadata": {
        "id": "OHeT3GySAyh6",
        "executionInfo": {
          "status": "ok",
          "timestamp": 1707104716797,
          "user_tz": -660,
          "elapsed": 2,
          "user": {
            "displayName": "",
            "userId": ""
          }
        }
      },
      "execution_count": 10,
      "outputs": [],
      "id": "OHeT3GySAyh6"
    },
    {
      "cell_type": "code",
      "source": [
        "def load_blob(bucket_name, blob_name):\n",
        "    print(f'looking for {blob_name} in {bucket_name}')\n",
        "    \"\"\"Loads a blob from the bucket.\"\"\"\n",
        "    #contains gs:// remove it\n",
        "    bucket_name = bucket_name.replace('gs://','')\n",
        "\n",
        "    # Instantiate a Google Cloud Storage client and specify required bucket and file\n",
        "    storage_client = storage.Client()\n",
        "    bucket = storage_client.get_bucket(bucket_name)\n",
        "    blob = bucket.blob(blob_name)\n",
        "\n",
        "    return blob"
      ],
      "metadata": {
        "id": "SZVlFlBCK-_F",
        "executionInfo": {
          "status": "ok",
          "timestamp": 1707104716797,
          "user_tz": -660,
          "elapsed": 2,
          "user": {
            "displayName": "",
            "userId": ""
          }
        }
      },
      "execution_count": 11,
      "outputs": [],
      "id": "SZVlFlBCK-_F"
    },
    {
      "cell_type": "markdown",
      "source": [
        "<div class=\"markdown-google-sans\">\n",
        "\n",
        "### **Support Functions**\n",
        "</div>\n",
        "\n"
      ],
      "metadata": {
        "id": "Chnxr9JBbSJ3"
      },
      "id": "Chnxr9JBbSJ3"
    },
    {
      "cell_type": "code",
      "source": [
        "# checks if a given long running operation has been completed\n",
        "# it will block the operation until the operation has completed.\n",
        "def check_operation_status(operation_id, check_timeout=60):\n",
        "  start = time.time()\n",
        "  done = False\n",
        "\n",
        "  while not done:\n",
        "    operation_result = !curl -sS -X GET -H \"Authorization: Bearer $(gcloud auth print-access-token)\" -H \"Content-Type: application/json\" https://visionai.googleapis.com/v1alpha1/projects/$PROJECT_ID/locations/$LOCATION/operations/$OPERATION_ID\n",
        "    operation_result = str(operation_result)\n",
        "\n",
        "    current_time = time.time()\n",
        "    elapsed_time = str(round(current_time-start))+' seconds ' if current_time - start < 60 else str( round((current_time-start)/60) ) + ' minutes'\n",
        "    print(\"\\r\"+'Awaiting function {}  {} elapsed.'.format(OPERATION_ID, elapsed_time),end=\"\")\n",
        "    time.sleep(check_timeout)\n",
        "    done = '\"done\": true' in operation_result\n",
        "\n",
        "\n",
        "  print(f' Operation: {OPERATION_ID} done')\n",
        "  return operation_result\n",
        "\n"
      ],
      "metadata": {
        "id": "9TFmvsGbbZlQ",
        "executionInfo": {
          "status": "ok",
          "timestamp": 1707104717229,
          "user_tz": -660,
          "elapsed": 1,
          "user": {
            "displayName": "",
            "userId": ""
          }
        }
      },
      "id": "9TFmvsGbbZlQ",
      "execution_count": 12,
      "outputs": []
    },
    {
      "cell_type": "markdown",
      "source": [
        "<div class=\"markdown-google-sans\">\n",
        "\n",
        "# **Catalog**\n",
        "\n",
        "There are multiple concepts that are relevant when you are building your product catalog. In this example we will build a sample **Catalog**, that will include a group of **Products**. since we will be leveraging known products with clear **GTINs** we won't be uploading **Product Image**.\n",
        "\n",
        "We will then create a **Product Recognition Index** and deploy that to an **Endpoint**.\n",
        "\n",
        "Here is a diagram with all related entities:\n",
        "\n",
        "<img src='https://cloud.google.com/static/vision-ai/docs/images/product-tag-recognizer-api-concept-diagram.png' />\n",
        "</div>\n",
        "\n",
        "\n",
        "For more information go to https://cloud.google.com/vision-ai/docs/product-recognizer"
      ],
      "metadata": {
        "id": "fBw4sfMkR8e3"
      },
      "id": "fBw4sfMkR8e3"
    },
    {
      "cell_type": "markdown",
      "source": [
        "<div class=\"markdown-google-sans\">\n",
        "\n",
        "## **Listing Catalogs**\n",
        "There might be previously created catalogs, so check if you have product catalogs created and which products are in it.\n",
        "</div>\n",
        "\n",
        "\n"
      ],
      "metadata": {
        "id": "vxQBpNvIUgue"
      },
      "id": "vxQBpNvIUgue"
    },
    {
      "cell_type": "code",
      "source": [
        "# create a catalog\n",
        "!curl -sS -X GET -H \"Authorization: Bearer $(gcloud auth print-access-token)\" -H \"Content-Type: application/json\" https://visionai.googleapis.com/v1alpha1/projects/$PROJECT_ID/locations/$LOCATION/retailCatalogs"
      ],
      "metadata": {
        "id": "ISKTuvQuSFVe"
      },
      "execution_count": null,
      "outputs": [],
      "id": "ISKTuvQuSFVe"
    },
    {
      "cell_type": "markdown",
      "source": [
        "List products in a given catalog"
      ],
      "metadata": {
        "id": "hOm5bckYT4CS"
      },
      "id": "hOm5bckYT4CS"
    },
    {
      "cell_type": "code",
      "source": [
        "!curl -sS -X GET -H \"Authorization: Bearer $(gcloud auth print-access-token)\" -H \"Content-Type: application/json\" https://visionai.googleapis.com/v1alpha1/projects/$PROJECT_ID/locations/$LOCATION/retailCatalogs/$CATALOG_ID/retailProducts"
      ],
      "metadata": {
        "id": "yuAln0WKT6Sp"
      },
      "execution_count": null,
      "outputs": [],
      "id": "yuAln0WKT6Sp"
    },
    {
      "cell_type": "markdown",
      "source": [
        "List Catalog Indexes"
      ],
      "metadata": {
        "id": "sQMonA5EUHhb"
      },
      "id": "sQMonA5EUHhb"
    },
    {
      "cell_type": "code",
      "source": [
        "!curl -sS -X GET -H \"Authorization: Bearer $(gcloud auth print-access-token)\" -H \"Content-Type: application/json\" https://visionai.googleapis.com/v1alpha1/projects/$PROJECT_ID/locations/$LOCATION/retailCatalogs/$CATALOG_ID/retailProductRecognitionIndexes"
      ],
      "metadata": {
        "id": "f6QJzX_MUJ2g"
      },
      "execution_count": null,
      "outputs": [],
      "id": "f6QJzX_MUJ2g"
    },
    {
      "cell_type": "markdown",
      "source": [
        "List endpoints"
      ],
      "metadata": {
        "id": "U-Kn3UsQUR6R"
      },
      "id": "U-Kn3UsQUR6R"
    },
    {
      "cell_type": "code",
      "source": [
        "!curl -sS -X GET -H \"Authorization: Bearer $(gcloud auth print-access-token)\" -H \"Content-Type: application/json\" https://visionai.googleapis.com/v1alpha1/projects/$PROJECT_ID/locations/$LOCATION/retailEndpoints"
      ],
      "metadata": {
        "id": "e91DOi1bUWSL"
      },
      "execution_count": null,
      "outputs": [],
      "id": "e91DOi1bUWSL"
    },
    {
      "cell_type": "markdown",
      "source": [
        "<div class=\"markdown-google-sans\">\n",
        "\n",
        "## **New Catalog**\n",
        "Now that you have a notion of previously deployed catalogs, let's create one.\n",
        "1.   Create a Catalog.\n",
        "2.   Loads data from the configured data source.\n",
        "3.   Import Products and (optional) ProductImages into the Catalog.\n",
        "4.   Create an Index, either from the entire Catalog or from a ProductSet.\n",
        "5.   Create an Endpoint with desired product recognition config and deploys an Index to it.\n",
        "</div>\n",
        "\n",
        "\n"
      ],
      "metadata": {
        "id": "_JupAiGch0Xs"
      },
      "id": "_JupAiGch0Xs"
    },
    {
      "cell_type": "markdown",
      "source": [
        "<div class=\"markdown-google-sans\">\n",
        "\n",
        "### **Create a Catalog**\n",
        "</div>"
      ],
      "metadata": {
        "id": "747ZdHuwr7R-"
      },
      "id": "747ZdHuwr7R-"
    },
    {
      "cell_type": "code",
      "source": [
        "#make the request\n",
        "output = !curl -sS -X POST -H \"Authorization: Bearer $(gcloud auth print-access-token)\" -H \"Content-Type: application/json\"  https://visionai.googleapis.com/v1alpha1/projects/$PROJECT_ID/locations/$LOCATION/retailCatalogs?retail_catalog_id=$CATALOG_ID\n",
        "\n",
        "ouput = str(output)\n",
        "OPERATION_ID = output[1].split(':')[1].split('/')[-1][0:-2]\n"
      ],
      "metadata": {
        "id": "c1BEaxIEryYF",
        "executionInfo": {
          "status": "ok",
          "timestamp": 1707104734010,
          "user_tz": -660,
          "elapsed": 7271,
          "user": {
            "displayName": "",
            "userId": ""
          }
        }
      },
      "id": "c1BEaxIEryYF",
      "execution_count": 13,
      "outputs": []
    },
    {
      "cell_type": "code",
      "source": [
        "print(OPERATION_ID)"
      ],
      "metadata": {
        "id": "aGMdSNUzt9VL",
        "colab": {
          "base_uri": "https://localhost:8080/"
        },
        "executionInfo": {
          "status": "ok",
          "timestamp": 1707104759658,
          "user_tz": -660,
          "elapsed": 2,
          "user": {
            "displayName": "",
            "userId": ""
          }
        },
        "outputId": "728c6fe6-d3be-4c3b-b2e0-b0d821aa3362"
      },
      "id": "aGMdSNUzt9VL",
      "execution_count": 14,
      "outputs": [
        {
          "output_type": "stream",
          "name": "stdout",
          "text": [
            "operation-1707104733230-6109a4b37f660-99776163-4188ef8a\n"
          ]
        }
      ]
    },
    {
      "cell_type": "code",
      "source": [
        "check_operation_status(OPERATION_ID)"
      ],
      "metadata": {
        "colab": {
          "base_uri": "https://localhost:8080/",
          "height": 87
        },
        "id": "Stldkna0Xygg",
        "executionInfo": {
          "status": "ok",
          "timestamp": 1707104823435,
          "user_tz": -660,
          "elapsed": 61533,
          "user": {
            "displayName": "",
            "userId": ""
          }
        },
        "outputId": "19fbb782-0f9c-462f-d39c-549af12c7c83"
      },
      "id": "Stldkna0Xygg",
      "execution_count": 15,
      "outputs": [
        {
          "output_type": "stream",
          "name": "stdout",
          "text": [
            "\rAwaiting function operation-1707104733230-6109a4b37f660-99776163-4188ef8a  1 seconds  elapsed. Operation: operation-1707104733230-6109a4b37f660-99776163-4188ef8a done\n"
          ]
        },
        {
          "output_type": "execute_result",
          "data": {
            "text/plain": [
              "'[\\'{\\', \\'  \"name\": \"projects/neon-camera-403606/locations/us-central1/operations/operation-1707104733230-6109a4b37f660-99776163-4188ef8a\",\\', \\'  \"done\": true,\\', \\'  \"response\": {\\', \\'    \"@type\": \"type.googleapis.com/google.cloud.visionai.v1alpha1.RetailCatalog\",\\', \\'    \"name\": \"projects/neon-camera-403606/locations/us-central1/retailCatalogs/neon-camera-catalog-labelled\",\\', \\'    \"createTime\": \"2024-02-05T03:45:33.245600012Z\",\\', \\'    \"updateTime\": \"2024-02-05T03:45:33.245600012Z\",\\', \\'    \"resourceState\": \"RETAIL_RESOURCE_STATE_CREATED\"\\', \\'  }\\', \\'}\\']'"
            ],
            "application/vnd.google.colaboratory.intrinsic+json": {
              "type": "string"
            }
          },
          "metadata": {},
          "execution_count": 15
        }
      ]
    },
    {
      "cell_type": "markdown",
      "source": [
        "<div class=\"markdown-google-sans\">\n",
        "\n",
        "### **Load Products**\n",
        "</div>"
      ],
      "metadata": {
        "id": "n29GqseSsHgw"
      },
      "id": "n29GqseSsHgw"
    },
    {
      "cell_type": "code",
      "source": [
        "# first we will read the csv file from the data source\n",
        "df = pd.read_csv(INPUT_BUCKET+'/'+INPUT_FILE)\n",
        "df.head()"
      ],
      "metadata": {
        "id": "YTKiV0SniWpJ",
        "colab": {
          "base_uri": "https://localhost:8080/",
          "height": 206
        },
        "executionInfo": {
          "status": "ok",
          "timestamp": 1707104827265,
          "user_tz": -660,
          "elapsed": 3834,
          "user": {
            "displayName": "",
            "userId": ""
          }
        },
        "outputId": "1878fbad-4a0f-4e32-edf1-46a96ca699d5"
      },
      "id": "YTKiV0SniWpJ",
      "execution_count": 16,
      "outputs": [
        {
          "output_type": "execute_result",
          "data": {
            "text/plain": [
              "   Article                       Article Name             EAN  \\\n",
              "0    97501  Twinings ASHA       Vanilla Pk 18     70177540852   \n",
              "1    97501  Twinings ASHA       Vanilla Pk 18     70177226305   \n",
              "2    97471   Bundaberg Ginger    Beer 4x375ml   9311493000165   \n",
              "3    97471   Bundaberg Ginger    Beer 4x375ml     79373000467   \n",
              "4    97471   Bundaberg Ginger    Beer 4x375ml  19311493437517   \n",
              "\n",
              "                 Category                             x  \n",
              "0               BEVERAGES                           TEA  \n",
              "1               BEVERAGES                           TEA  \n",
              "2  CARBONATED SOFT DRINKS  SOFT DRINKS - BOTTLES & CANS  \n",
              "3  CARBONATED SOFT DRINKS  SOFT DRINKS - BOTTLES & CANS  \n",
              "4  CARBONATED SOFT DRINKS  SOFT DRINKS - BOTTLES & CANS  "
            ],
            "text/html": [
              "\n",
              "  <div id=\"df-bc00b169-0e7b-42da-b8cf-436907e519d1\" class=\"colab-df-container\">\n",
              "    <div>\n",
              "<style scoped>\n",
              "    .dataframe tbody tr th:only-of-type {\n",
              "        vertical-align: middle;\n",
              "    }\n",
              "\n",
              "    .dataframe tbody tr th {\n",
              "        vertical-align: top;\n",
              "    }\n",
              "\n",
              "    .dataframe thead th {\n",
              "        text-align: right;\n",
              "    }\n",
              "</style>\n",
              "<table border=\"1\" class=\"dataframe\">\n",
              "  <thead>\n",
              "    <tr style=\"text-align: right;\">\n",
              "      <th></th>\n",
              "      <th>Article</th>\n",
              "      <th>Article Name</th>\n",
              "      <th>EAN</th>\n",
              "      <th>Category</th>\n",
              "      <th>x</th>\n",
              "    </tr>\n",
              "  </thead>\n",
              "  <tbody>\n",
              "    <tr>\n",
              "      <th>0</th>\n",
              "      <td>97501</td>\n",
              "      <td>Twinings ASHA       Vanilla Pk 18</td>\n",
              "      <td>70177540852</td>\n",
              "      <td>BEVERAGES</td>\n",
              "      <td>TEA</td>\n",
              "    </tr>\n",
              "    <tr>\n",
              "      <th>1</th>\n",
              "      <td>97501</td>\n",
              "      <td>Twinings ASHA       Vanilla Pk 18</td>\n",
              "      <td>70177226305</td>\n",
              "      <td>BEVERAGES</td>\n",
              "      <td>TEA</td>\n",
              "    </tr>\n",
              "    <tr>\n",
              "      <th>2</th>\n",
              "      <td>97471</td>\n",
              "      <td>Bundaberg Ginger    Beer 4x375ml</td>\n",
              "      <td>9311493000165</td>\n",
              "      <td>CARBONATED SOFT DRINKS</td>\n",
              "      <td>SOFT DRINKS - BOTTLES &amp; CANS</td>\n",
              "    </tr>\n",
              "    <tr>\n",
              "      <th>3</th>\n",
              "      <td>97471</td>\n",
              "      <td>Bundaberg Ginger    Beer 4x375ml</td>\n",
              "      <td>79373000467</td>\n",
              "      <td>CARBONATED SOFT DRINKS</td>\n",
              "      <td>SOFT DRINKS - BOTTLES &amp; CANS</td>\n",
              "    </tr>\n",
              "    <tr>\n",
              "      <th>4</th>\n",
              "      <td>97471</td>\n",
              "      <td>Bundaberg Ginger    Beer 4x375ml</td>\n",
              "      <td>19311493437517</td>\n",
              "      <td>CARBONATED SOFT DRINKS</td>\n",
              "      <td>SOFT DRINKS - BOTTLES &amp; CANS</td>\n",
              "    </tr>\n",
              "  </tbody>\n",
              "</table>\n",
              "</div>\n",
              "    <div class=\"colab-df-buttons\">\n",
              "\n",
              "  <div class=\"colab-df-container\">\n",
              "    <button class=\"colab-df-convert\" onclick=\"convertToInteractive('df-bc00b169-0e7b-42da-b8cf-436907e519d1')\"\n",
              "            title=\"Convert this dataframe to an interactive table.\"\n",
              "            style=\"display:none;\">\n",
              "\n",
              "  <svg xmlns=\"http://www.w3.org/2000/svg\" height=\"24px\" viewBox=\"0 -960 960 960\">\n",
              "    <path d=\"M120-120v-720h720v720H120Zm60-500h600v-160H180v160Zm220 220h160v-160H400v160Zm0 220h160v-160H400v160ZM180-400h160v-160H180v160Zm440 0h160v-160H620v160ZM180-180h160v-160H180v160Zm440 0h160v-160H620v160Z\"/>\n",
              "  </svg>\n",
              "    </button>\n",
              "\n",
              "  <style>\n",
              "    .colab-df-container {\n",
              "      display:flex;\n",
              "      gap: 12px;\n",
              "    }\n",
              "\n",
              "    .colab-df-convert {\n",
              "      background-color: #E8F0FE;\n",
              "      border: none;\n",
              "      border-radius: 50%;\n",
              "      cursor: pointer;\n",
              "      display: none;\n",
              "      fill: #1967D2;\n",
              "      height: 32px;\n",
              "      padding: 0 0 0 0;\n",
              "      width: 32px;\n",
              "    }\n",
              "\n",
              "    .colab-df-convert:hover {\n",
              "      background-color: #E2EBFA;\n",
              "      box-shadow: 0px 1px 2px rgba(60, 64, 67, 0.3), 0px 1px 3px 1px rgba(60, 64, 67, 0.15);\n",
              "      fill: #174EA6;\n",
              "    }\n",
              "\n",
              "    .colab-df-buttons div {\n",
              "      margin-bottom: 4px;\n",
              "    }\n",
              "\n",
              "    [theme=dark] .colab-df-convert {\n",
              "      background-color: #3B4455;\n",
              "      fill: #D2E3FC;\n",
              "    }\n",
              "\n",
              "    [theme=dark] .colab-df-convert:hover {\n",
              "      background-color: #434B5C;\n",
              "      box-shadow: 0px 1px 3px 1px rgba(0, 0, 0, 0.15);\n",
              "      filter: drop-shadow(0px 1px 2px rgba(0, 0, 0, 0.3));\n",
              "      fill: #FFFFFF;\n",
              "    }\n",
              "  </style>\n",
              "\n",
              "    <script>\n",
              "      const buttonEl =\n",
              "        document.querySelector('#df-bc00b169-0e7b-42da-b8cf-436907e519d1 button.colab-df-convert');\n",
              "      buttonEl.style.display =\n",
              "        google.colab.kernel.accessAllowed ? 'block' : 'none';\n",
              "\n",
              "      async function convertToInteractive(key) {\n",
              "        const element = document.querySelector('#df-bc00b169-0e7b-42da-b8cf-436907e519d1');\n",
              "        const dataTable =\n",
              "          await google.colab.kernel.invokeFunction('convertToInteractive',\n",
              "                                                    [key], {});\n",
              "        if (!dataTable) return;\n",
              "\n",
              "        const docLinkHtml = 'Like what you see? Visit the ' +\n",
              "          '<a target=\"_blank\" href=https://colab.research.google.com/notebooks/data_table.ipynb>data table notebook</a>'\n",
              "          + ' to learn more about interactive tables.';\n",
              "        element.innerHTML = '';\n",
              "        dataTable['output_type'] = 'display_data';\n",
              "        await google.colab.output.renderOutput(dataTable, element);\n",
              "        const docLink = document.createElement('div');\n",
              "        docLink.innerHTML = docLinkHtml;\n",
              "        element.appendChild(docLink);\n",
              "      }\n",
              "    </script>\n",
              "  </div>\n",
              "\n",
              "\n",
              "<div id=\"df-03805838-032d-421d-84f0-c6b0c1e4baca\">\n",
              "  <button class=\"colab-df-quickchart\" onclick=\"quickchart('df-03805838-032d-421d-84f0-c6b0c1e4baca')\"\n",
              "            title=\"Suggest charts\"\n",
              "            style=\"display:none;\">\n",
              "\n",
              "<svg xmlns=\"http://www.w3.org/2000/svg\" height=\"24px\"viewBox=\"0 0 24 24\"\n",
              "     width=\"24px\">\n",
              "    <g>\n",
              "        <path d=\"M19 3H5c-1.1 0-2 .9-2 2v14c0 1.1.9 2 2 2h14c1.1 0 2-.9 2-2V5c0-1.1-.9-2-2-2zM9 17H7v-7h2v7zm4 0h-2V7h2v10zm4 0h-2v-4h2v4z\"/>\n",
              "    </g>\n",
              "</svg>\n",
              "  </button>\n",
              "\n",
              "<style>\n",
              "  .colab-df-quickchart {\n",
              "      --bg-color: #E8F0FE;\n",
              "      --fill-color: #1967D2;\n",
              "      --hover-bg-color: #E2EBFA;\n",
              "      --hover-fill-color: #174EA6;\n",
              "      --disabled-fill-color: #AAA;\n",
              "      --disabled-bg-color: #DDD;\n",
              "  }\n",
              "\n",
              "  [theme=dark] .colab-df-quickchart {\n",
              "      --bg-color: #3B4455;\n",
              "      --fill-color: #D2E3FC;\n",
              "      --hover-bg-color: #434B5C;\n",
              "      --hover-fill-color: #FFFFFF;\n",
              "      --disabled-bg-color: #3B4455;\n",
              "      --disabled-fill-color: #666;\n",
              "  }\n",
              "\n",
              "  .colab-df-quickchart {\n",
              "    background-color: var(--bg-color);\n",
              "    border: none;\n",
              "    border-radius: 50%;\n",
              "    cursor: pointer;\n",
              "    display: none;\n",
              "    fill: var(--fill-color);\n",
              "    height: 32px;\n",
              "    padding: 0;\n",
              "    width: 32px;\n",
              "  }\n",
              "\n",
              "  .colab-df-quickchart:hover {\n",
              "    background-color: var(--hover-bg-color);\n",
              "    box-shadow: 0 1px 2px rgba(60, 64, 67, 0.3), 0 1px 3px 1px rgba(60, 64, 67, 0.15);\n",
              "    fill: var(--button-hover-fill-color);\n",
              "  }\n",
              "\n",
              "  .colab-df-quickchart-complete:disabled,\n",
              "  .colab-df-quickchart-complete:disabled:hover {\n",
              "    background-color: var(--disabled-bg-color);\n",
              "    fill: var(--disabled-fill-color);\n",
              "    box-shadow: none;\n",
              "  }\n",
              "\n",
              "  .colab-df-spinner {\n",
              "    border: 2px solid var(--fill-color);\n",
              "    border-color: transparent;\n",
              "    border-bottom-color: var(--fill-color);\n",
              "    animation:\n",
              "      spin 1s steps(1) infinite;\n",
              "  }\n",
              "\n",
              "  @keyframes spin {\n",
              "    0% {\n",
              "      border-color: transparent;\n",
              "      border-bottom-color: var(--fill-color);\n",
              "      border-left-color: var(--fill-color);\n",
              "    }\n",
              "    20% {\n",
              "      border-color: transparent;\n",
              "      border-left-color: var(--fill-color);\n",
              "      border-top-color: var(--fill-color);\n",
              "    }\n",
              "    30% {\n",
              "      border-color: transparent;\n",
              "      border-left-color: var(--fill-color);\n",
              "      border-top-color: var(--fill-color);\n",
              "      border-right-color: var(--fill-color);\n",
              "    }\n",
              "    40% {\n",
              "      border-color: transparent;\n",
              "      border-right-color: var(--fill-color);\n",
              "      border-top-color: var(--fill-color);\n",
              "    }\n",
              "    60% {\n",
              "      border-color: transparent;\n",
              "      border-right-color: var(--fill-color);\n",
              "    }\n",
              "    80% {\n",
              "      border-color: transparent;\n",
              "      border-right-color: var(--fill-color);\n",
              "      border-bottom-color: var(--fill-color);\n",
              "    }\n",
              "    90% {\n",
              "      border-color: transparent;\n",
              "      border-bottom-color: var(--fill-color);\n",
              "    }\n",
              "  }\n",
              "</style>\n",
              "\n",
              "  <script>\n",
              "    async function quickchart(key) {\n",
              "      const quickchartButtonEl =\n",
              "        document.querySelector('#' + key + ' button');\n",
              "      quickchartButtonEl.disabled = true;  // To prevent multiple clicks.\n",
              "      quickchartButtonEl.classList.add('colab-df-spinner');\n",
              "      try {\n",
              "        const charts = await google.colab.kernel.invokeFunction(\n",
              "            'suggestCharts', [key], {});\n",
              "      } catch (error) {\n",
              "        console.error('Error during call to suggestCharts:', error);\n",
              "      }\n",
              "      quickchartButtonEl.classList.remove('colab-df-spinner');\n",
              "      quickchartButtonEl.classList.add('colab-df-quickchart-complete');\n",
              "    }\n",
              "    (() => {\n",
              "      let quickchartButtonEl =\n",
              "        document.querySelector('#df-03805838-032d-421d-84f0-c6b0c1e4baca button');\n",
              "      quickchartButtonEl.style.display =\n",
              "        google.colab.kernel.accessAllowed ? 'block' : 'none';\n",
              "    })();\n",
              "  </script>\n",
              "</div>\n",
              "    </div>\n",
              "  </div>\n"
            ]
          },
          "metadata": {},
          "execution_count": 16
        }
      ]
    },
    {
      "cell_type": "markdown",
      "source": [
        "<div class=\"markdown-google-sans\">\n",
        "Now we need to convert this into a format that is ready to import into our product catalog. Let's add this in a column.\n",
        "\n",
        "\n",
        "\n",
        "```\n",
        "{\"retailProduct\":{\"name\":\"00040094314034\",\"gtins\":[\"00040094314034\"]},\"retailProductImages\":[{\"name\":\"1\",\"gcsUri\":\"gs://shelfchecking-integration-test-data/products-data/00040094314034/1.jpg\"}]}\n",
        "{\"retailProduct\": {\"name\":\"00123\", \"thirdPartyIds\": {\"id\": \"test-id\", \"owner\": \"test-owner\"}}}\n",
        "```\n",
        "\n",
        "Since we are not providing any product images, we'll product the following:\n",
        "```\n",
        "{\"retailProduct\":{\"name\":\"product id\",\"gtins\":[\"00040094314034\"]}}\n",
        "```\n",
        "<div/>"
      ],
      "metadata": {
        "id": "MYm09Rj_kyWm"
      },
      "id": "MYm09Rj_kyWm"
    },
    {
      "cell_type": "code",
      "source": [
        "locale_id = \"en-AU\""
      ],
      "metadata": {
        "id": "NaGQ8Us8Zr2S",
        "executionInfo": {
          "status": "ok",
          "timestamp": 1707104827265,
          "user_tz": -660,
          "elapsed": 2,
          "user": {
            "displayName": "",
            "userId": ""
          }
        }
      },
      "id": "NaGQ8Us8Zr2S",
      "execution_count": 17,
      "outputs": []
    },
    {
      "cell_type": "code",
      "source": [
        "df['json'] = df.apply(lambda row: json.dumps({\"retailProduct\":{\"name\":str(row['Article']), \"title\": row['Article Name'],\"gtins\":[str(row['EAN'])], \"locale\":locale_id}}), axis=1)\n",
        "df.head(5)"
      ],
      "metadata": {
        "id": "Gx4uJWIylDeR",
        "colab": {
          "base_uri": "https://localhost:8080/",
          "height": 206
        },
        "executionInfo": {
          "status": "ok",
          "timestamp": 1707104827762,
          "user_tz": -660,
          "elapsed": 499,
          "user": {
            "displayName": "",
            "userId": ""
          }
        },
        "outputId": "1d59cd80-3bce-40ed-b39d-baabd6ccfa5e"
      },
      "id": "Gx4uJWIylDeR",
      "execution_count": 18,
      "outputs": [
        {
          "output_type": "execute_result",
          "data": {
            "text/plain": [
              "   Article                       Article Name             EAN  \\\n",
              "0    97501  Twinings ASHA       Vanilla Pk 18     70177540852   \n",
              "1    97501  Twinings ASHA       Vanilla Pk 18     70177226305   \n",
              "2    97471   Bundaberg Ginger    Beer 4x375ml   9311493000165   \n",
              "3    97471   Bundaberg Ginger    Beer 4x375ml     79373000467   \n",
              "4    97471   Bundaberg Ginger    Beer 4x375ml  19311493437517   \n",
              "\n",
              "                 Category                             x  \\\n",
              "0               BEVERAGES                           TEA   \n",
              "1               BEVERAGES                           TEA   \n",
              "2  CARBONATED SOFT DRINKS  SOFT DRINKS - BOTTLES & CANS   \n",
              "3  CARBONATED SOFT DRINKS  SOFT DRINKS - BOTTLES & CANS   \n",
              "4  CARBONATED SOFT DRINKS  SOFT DRINKS - BOTTLES & CANS   \n",
              "\n",
              "                                                json  \n",
              "0  {\"retailProduct\": {\"name\": \"97501\", \"title\": \"...  \n",
              "1  {\"retailProduct\": {\"name\": \"97501\", \"title\": \"...  \n",
              "2  {\"retailProduct\": {\"name\": \"97471\", \"title\": \"...  \n",
              "3  {\"retailProduct\": {\"name\": \"97471\", \"title\": \"...  \n",
              "4  {\"retailProduct\": {\"name\": \"97471\", \"title\": \"...  "
            ],
            "text/html": [
              "\n",
              "  <div id=\"df-c10c33ab-28fb-4f4b-9caf-0c3defd667a9\" class=\"colab-df-container\">\n",
              "    <div>\n",
              "<style scoped>\n",
              "    .dataframe tbody tr th:only-of-type {\n",
              "        vertical-align: middle;\n",
              "    }\n",
              "\n",
              "    .dataframe tbody tr th {\n",
              "        vertical-align: top;\n",
              "    }\n",
              "\n",
              "    .dataframe thead th {\n",
              "        text-align: right;\n",
              "    }\n",
              "</style>\n",
              "<table border=\"1\" class=\"dataframe\">\n",
              "  <thead>\n",
              "    <tr style=\"text-align: right;\">\n",
              "      <th></th>\n",
              "      <th>Article</th>\n",
              "      <th>Article Name</th>\n",
              "      <th>EAN</th>\n",
              "      <th>Category</th>\n",
              "      <th>x</th>\n",
              "      <th>json</th>\n",
              "    </tr>\n",
              "  </thead>\n",
              "  <tbody>\n",
              "    <tr>\n",
              "      <th>0</th>\n",
              "      <td>97501</td>\n",
              "      <td>Twinings ASHA       Vanilla Pk 18</td>\n",
              "      <td>70177540852</td>\n",
              "      <td>BEVERAGES</td>\n",
              "      <td>TEA</td>\n",
              "      <td>{\"retailProduct\": {\"name\": \"97501\", \"title\": \"...</td>\n",
              "    </tr>\n",
              "    <tr>\n",
              "      <th>1</th>\n",
              "      <td>97501</td>\n",
              "      <td>Twinings ASHA       Vanilla Pk 18</td>\n",
              "      <td>70177226305</td>\n",
              "      <td>BEVERAGES</td>\n",
              "      <td>TEA</td>\n",
              "      <td>{\"retailProduct\": {\"name\": \"97501\", \"title\": \"...</td>\n",
              "    </tr>\n",
              "    <tr>\n",
              "      <th>2</th>\n",
              "      <td>97471</td>\n",
              "      <td>Bundaberg Ginger    Beer 4x375ml</td>\n",
              "      <td>9311493000165</td>\n",
              "      <td>CARBONATED SOFT DRINKS</td>\n",
              "      <td>SOFT DRINKS - BOTTLES &amp; CANS</td>\n",
              "      <td>{\"retailProduct\": {\"name\": \"97471\", \"title\": \"...</td>\n",
              "    </tr>\n",
              "    <tr>\n",
              "      <th>3</th>\n",
              "      <td>97471</td>\n",
              "      <td>Bundaberg Ginger    Beer 4x375ml</td>\n",
              "      <td>79373000467</td>\n",
              "      <td>CARBONATED SOFT DRINKS</td>\n",
              "      <td>SOFT DRINKS - BOTTLES &amp; CANS</td>\n",
              "      <td>{\"retailProduct\": {\"name\": \"97471\", \"title\": \"...</td>\n",
              "    </tr>\n",
              "    <tr>\n",
              "      <th>4</th>\n",
              "      <td>97471</td>\n",
              "      <td>Bundaberg Ginger    Beer 4x375ml</td>\n",
              "      <td>19311493437517</td>\n",
              "      <td>CARBONATED SOFT DRINKS</td>\n",
              "      <td>SOFT DRINKS - BOTTLES &amp; CANS</td>\n",
              "      <td>{\"retailProduct\": {\"name\": \"97471\", \"title\": \"...</td>\n",
              "    </tr>\n",
              "  </tbody>\n",
              "</table>\n",
              "</div>\n",
              "    <div class=\"colab-df-buttons\">\n",
              "\n",
              "  <div class=\"colab-df-container\">\n",
              "    <button class=\"colab-df-convert\" onclick=\"convertToInteractive('df-c10c33ab-28fb-4f4b-9caf-0c3defd667a9')\"\n",
              "            title=\"Convert this dataframe to an interactive table.\"\n",
              "            style=\"display:none;\">\n",
              "\n",
              "  <svg xmlns=\"http://www.w3.org/2000/svg\" height=\"24px\" viewBox=\"0 -960 960 960\">\n",
              "    <path d=\"M120-120v-720h720v720H120Zm60-500h600v-160H180v160Zm220 220h160v-160H400v160Zm0 220h160v-160H400v160ZM180-400h160v-160H180v160Zm440 0h160v-160H620v160ZM180-180h160v-160H180v160Zm440 0h160v-160H620v160Z\"/>\n",
              "  </svg>\n",
              "    </button>\n",
              "\n",
              "  <style>\n",
              "    .colab-df-container {\n",
              "      display:flex;\n",
              "      gap: 12px;\n",
              "    }\n",
              "\n",
              "    .colab-df-convert {\n",
              "      background-color: #E8F0FE;\n",
              "      border: none;\n",
              "      border-radius: 50%;\n",
              "      cursor: pointer;\n",
              "      display: none;\n",
              "      fill: #1967D2;\n",
              "      height: 32px;\n",
              "      padding: 0 0 0 0;\n",
              "      width: 32px;\n",
              "    }\n",
              "\n",
              "    .colab-df-convert:hover {\n",
              "      background-color: #E2EBFA;\n",
              "      box-shadow: 0px 1px 2px rgba(60, 64, 67, 0.3), 0px 1px 3px 1px rgba(60, 64, 67, 0.15);\n",
              "      fill: #174EA6;\n",
              "    }\n",
              "\n",
              "    .colab-df-buttons div {\n",
              "      margin-bottom: 4px;\n",
              "    }\n",
              "\n",
              "    [theme=dark] .colab-df-convert {\n",
              "      background-color: #3B4455;\n",
              "      fill: #D2E3FC;\n",
              "    }\n",
              "\n",
              "    [theme=dark] .colab-df-convert:hover {\n",
              "      background-color: #434B5C;\n",
              "      box-shadow: 0px 1px 3px 1px rgba(0, 0, 0, 0.15);\n",
              "      filter: drop-shadow(0px 1px 2px rgba(0, 0, 0, 0.3));\n",
              "      fill: #FFFFFF;\n",
              "    }\n",
              "  </style>\n",
              "\n",
              "    <script>\n",
              "      const buttonEl =\n",
              "        document.querySelector('#df-c10c33ab-28fb-4f4b-9caf-0c3defd667a9 button.colab-df-convert');\n",
              "      buttonEl.style.display =\n",
              "        google.colab.kernel.accessAllowed ? 'block' : 'none';\n",
              "\n",
              "      async function convertToInteractive(key) {\n",
              "        const element = document.querySelector('#df-c10c33ab-28fb-4f4b-9caf-0c3defd667a9');\n",
              "        const dataTable =\n",
              "          await google.colab.kernel.invokeFunction('convertToInteractive',\n",
              "                                                    [key], {});\n",
              "        if (!dataTable) return;\n",
              "\n",
              "        const docLinkHtml = 'Like what you see? Visit the ' +\n",
              "          '<a target=\"_blank\" href=https://colab.research.google.com/notebooks/data_table.ipynb>data table notebook</a>'\n",
              "          + ' to learn more about interactive tables.';\n",
              "        element.innerHTML = '';\n",
              "        dataTable['output_type'] = 'display_data';\n",
              "        await google.colab.output.renderOutput(dataTable, element);\n",
              "        const docLink = document.createElement('div');\n",
              "        docLink.innerHTML = docLinkHtml;\n",
              "        element.appendChild(docLink);\n",
              "      }\n",
              "    </script>\n",
              "  </div>\n",
              "\n",
              "\n",
              "<div id=\"df-352eb859-98cc-45b3-a761-12d37bb81382\">\n",
              "  <button class=\"colab-df-quickchart\" onclick=\"quickchart('df-352eb859-98cc-45b3-a761-12d37bb81382')\"\n",
              "            title=\"Suggest charts\"\n",
              "            style=\"display:none;\">\n",
              "\n",
              "<svg xmlns=\"http://www.w3.org/2000/svg\" height=\"24px\"viewBox=\"0 0 24 24\"\n",
              "     width=\"24px\">\n",
              "    <g>\n",
              "        <path d=\"M19 3H5c-1.1 0-2 .9-2 2v14c0 1.1.9 2 2 2h14c1.1 0 2-.9 2-2V5c0-1.1-.9-2-2-2zM9 17H7v-7h2v7zm4 0h-2V7h2v10zm4 0h-2v-4h2v4z\"/>\n",
              "    </g>\n",
              "</svg>\n",
              "  </button>\n",
              "\n",
              "<style>\n",
              "  .colab-df-quickchart {\n",
              "      --bg-color: #E8F0FE;\n",
              "      --fill-color: #1967D2;\n",
              "      --hover-bg-color: #E2EBFA;\n",
              "      --hover-fill-color: #174EA6;\n",
              "      --disabled-fill-color: #AAA;\n",
              "      --disabled-bg-color: #DDD;\n",
              "  }\n",
              "\n",
              "  [theme=dark] .colab-df-quickchart {\n",
              "      --bg-color: #3B4455;\n",
              "      --fill-color: #D2E3FC;\n",
              "      --hover-bg-color: #434B5C;\n",
              "      --hover-fill-color: #FFFFFF;\n",
              "      --disabled-bg-color: #3B4455;\n",
              "      --disabled-fill-color: #666;\n",
              "  }\n",
              "\n",
              "  .colab-df-quickchart {\n",
              "    background-color: var(--bg-color);\n",
              "    border: none;\n",
              "    border-radius: 50%;\n",
              "    cursor: pointer;\n",
              "    display: none;\n",
              "    fill: var(--fill-color);\n",
              "    height: 32px;\n",
              "    padding: 0;\n",
              "    width: 32px;\n",
              "  }\n",
              "\n",
              "  .colab-df-quickchart:hover {\n",
              "    background-color: var(--hover-bg-color);\n",
              "    box-shadow: 0 1px 2px rgba(60, 64, 67, 0.3), 0 1px 3px 1px rgba(60, 64, 67, 0.15);\n",
              "    fill: var(--button-hover-fill-color);\n",
              "  }\n",
              "\n",
              "  .colab-df-quickchart-complete:disabled,\n",
              "  .colab-df-quickchart-complete:disabled:hover {\n",
              "    background-color: var(--disabled-bg-color);\n",
              "    fill: var(--disabled-fill-color);\n",
              "    box-shadow: none;\n",
              "  }\n",
              "\n",
              "  .colab-df-spinner {\n",
              "    border: 2px solid var(--fill-color);\n",
              "    border-color: transparent;\n",
              "    border-bottom-color: var(--fill-color);\n",
              "    animation:\n",
              "      spin 1s steps(1) infinite;\n",
              "  }\n",
              "\n",
              "  @keyframes spin {\n",
              "    0% {\n",
              "      border-color: transparent;\n",
              "      border-bottom-color: var(--fill-color);\n",
              "      border-left-color: var(--fill-color);\n",
              "    }\n",
              "    20% {\n",
              "      border-color: transparent;\n",
              "      border-left-color: var(--fill-color);\n",
              "      border-top-color: var(--fill-color);\n",
              "    }\n",
              "    30% {\n",
              "      border-color: transparent;\n",
              "      border-left-color: var(--fill-color);\n",
              "      border-top-color: var(--fill-color);\n",
              "      border-right-color: var(--fill-color);\n",
              "    }\n",
              "    40% {\n",
              "      border-color: transparent;\n",
              "      border-right-color: var(--fill-color);\n",
              "      border-top-color: var(--fill-color);\n",
              "    }\n",
              "    60% {\n",
              "      border-color: transparent;\n",
              "      border-right-color: var(--fill-color);\n",
              "    }\n",
              "    80% {\n",
              "      border-color: transparent;\n",
              "      border-right-color: var(--fill-color);\n",
              "      border-bottom-color: var(--fill-color);\n",
              "    }\n",
              "    90% {\n",
              "      border-color: transparent;\n",
              "      border-bottom-color: var(--fill-color);\n",
              "    }\n",
              "  }\n",
              "</style>\n",
              "\n",
              "  <script>\n",
              "    async function quickchart(key) {\n",
              "      const quickchartButtonEl =\n",
              "        document.querySelector('#' + key + ' button');\n",
              "      quickchartButtonEl.disabled = true;  // To prevent multiple clicks.\n",
              "      quickchartButtonEl.classList.add('colab-df-spinner');\n",
              "      try {\n",
              "        const charts = await google.colab.kernel.invokeFunction(\n",
              "            'suggestCharts', [key], {});\n",
              "      } catch (error) {\n",
              "        console.error('Error during call to suggestCharts:', error);\n",
              "      }\n",
              "      quickchartButtonEl.classList.remove('colab-df-spinner');\n",
              "      quickchartButtonEl.classList.add('colab-df-quickchart-complete');\n",
              "    }\n",
              "    (() => {\n",
              "      let quickchartButtonEl =\n",
              "        document.querySelector('#df-352eb859-98cc-45b3-a761-12d37bb81382 button');\n",
              "      quickchartButtonEl.style.display =\n",
              "        google.colab.kernel.accessAllowed ? 'block' : 'none';\n",
              "    })();\n",
              "  </script>\n",
              "</div>\n",
              "    </div>\n",
              "  </div>\n"
            ]
          },
          "metadata": {},
          "execution_count": 18
        }
      ]
    },
    {
      "cell_type": "markdown",
      "source": [
        "<div class=\"markdown-google-sans\">\n",
        "<p>We have the data in the right format, we will create the jsonl files that will serve as input to the catalog. There is currently a limitation of importing 10,000 products at each run.<p>\n",
        "<div/>"
      ],
      "metadata": {
        "id": "XWcp1cp3mDhs"
      },
      "id": "XWcp1cp3mDhs"
    },
    {
      "cell_type": "code",
      "source": [
        "total_items = len(df)\n",
        "total_files= math.ceil(total_items / 10000)\n",
        "\n",
        "print(f'Creating {total_files} file to handle {total_items}')\n",
        "\n",
        "products_filename = 'products.jsonl'\n",
        "\n",
        "# output_df = df[['json']]\n",
        "\n",
        "\n",
        "# Open the JSONL file\n",
        "with open(products_filename, 'w') as f:\n",
        "    for row in df.itertuples():\n",
        "      f.write(row.json+'\\n')\n",
        "\n",
        "\n",
        "# Upload file to a gcs bucket\n",
        "upload_blob(INPUT_BUCKET, products_filename, products_filename)\n"
      ],
      "metadata": {
        "id": "7WjnvBnPmXYR",
        "colab": {
          "base_uri": "https://localhost:8080/"
        },
        "executionInfo": {
          "status": "ok",
          "timestamp": 1707104827762,
          "user_tz": -660,
          "elapsed": 6,
          "user": {
            "displayName": "",
            "userId": ""
          }
        },
        "outputId": "aaa89f23-fba1-4751-e5be-b7820758cab6"
      },
      "id": "7WjnvBnPmXYR",
      "execution_count": 19,
      "outputs": [
        {
          "output_type": "stream",
          "name": "stdout",
          "text": [
            "Creating 1 file to handle 5494\n"
          ]
        }
      ]
    },
    {
      "cell_type": "markdown",
      "source": [
        "<div class=\"markdown-google-sans\">\n",
        "\n",
        "### **Import Products**\n",
        "</div>"
      ],
      "metadata": {
        "id": "EUzSyvkIuy1T"
      },
      "id": "EUzSyvkIuy1T"
    },
    {
      "cell_type": "code",
      "source": [
        "request_data=f\"\"\"\n",
        "{{\n",
        "    \"gcs_source\": {{\n",
        "      \"uris\": \"{INPUT_BUCKET + '/' + products_filename}\"\n",
        "    }},\n",
        "    \"format\": \"FORMAT_JSONL\"\n",
        "}}\n",
        "\"\"\"\n",
        "\n",
        "# Open the file for writing\n",
        "with open('data.json', 'w') as f:\n",
        "    # Define the data to be written\n",
        "    # Use a for loop to write each line of data to the file\n",
        "    f.write(request_data)\n",
        "    f.close()"
      ],
      "metadata": {
        "id": "gTjVXCo7qFoG",
        "executionInfo": {
          "status": "ok",
          "timestamp": 1707104832564,
          "user_tz": -660,
          "elapsed": 411,
          "user": {
            "displayName": "",
            "userId": ""
          }
        }
      },
      "id": "gTjVXCo7qFoG",
      "execution_count": 20,
      "outputs": []
    },
    {
      "cell_type": "code",
      "source": [
        "output = !curl -sS -X POST -H \"Authorization: Bearer $(gcloud auth print-access-token)\" -H \"Content-Type: application/json\" https://visionai.googleapis.com/v1alpha1/projects/{PROJECT_ID}/locations/$LOCATION/retailCatalogs/{CATALOG_ID}:importRetailProducts -d @data.json"
      ],
      "metadata": {
        "id": "B3DbRuV9qrrk",
        "executionInfo": {
          "status": "ok",
          "timestamp": 1707104849124,
          "user_tz": -660,
          "elapsed": 1969,
          "user": {
            "displayName": "",
            "userId": ""
          }
        }
      },
      "id": "B3DbRuV9qrrk",
      "execution_count": 21,
      "outputs": []
    },
    {
      "cell_type": "code",
      "source": [
        "ouput = str(output)\n",
        "OPERATION_ID = output[1].split(':')[1].split('/')[-1][0:-2]\n",
        "print(OPERATION_ID)"
      ],
      "metadata": {
        "id": "KAreCczQaUeB",
        "colab": {
          "base_uri": "https://localhost:8080/"
        },
        "executionInfo": {
          "status": "ok",
          "timestamp": 1707104850408,
          "user_tz": -660,
          "elapsed": 1,
          "user": {
            "displayName": "",
            "userId": ""
          }
        },
        "outputId": "249f8ea1-fcbb-4310-ce80-1f342b500997"
      },
      "id": "KAreCczQaUeB",
      "execution_count": 22,
      "outputs": [
        {
          "output_type": "stream",
          "name": "stdout",
          "text": [
            "operation-1707104848158-6109a52119f19-ecf0d38f-7ada5ca5\n"
          ]
        }
      ]
    },
    {
      "cell_type": "code",
      "source": [
        "\n",
        "check_operation_status(OPERATION_ID)"
      ],
      "metadata": {
        "id": "Knv-E744ulsy",
        "colab": {
          "base_uri": "https://localhost:8080/",
          "height": 140
        },
        "executionInfo": {
          "status": "ok",
          "timestamp": 1707106566225,
          "user_tz": -660,
          "elapsed": 1711863,
          "user": {
            "displayName": "",
            "userId": ""
          }
        },
        "outputId": "e613c84b-1679-4281-9807-117934814d77"
      },
      "id": "Knv-E744ulsy",
      "execution_count": 23,
      "outputs": [
        {
          "output_type": "stream",
          "name": "stdout",
          "text": [
            "Awaiting function operation-1707104848158-6109a52119f19-ecf0d38f-7ada5ca5  28 minutes elapsed. Operation: operation-1707104848158-6109a52119f19-ecf0d38f-7ada5ca5 done\n"
          ]
        },
        {
          "output_type": "execute_result",
          "data": {
            "text/plain": [
              "'[\\'{\\', \\'  \"name\": \"projects/neon-camera-403606/locations/us-central1/operations/operation-1707104848158-6109a52119f19-ecf0d38f-7ada5ca5\",\\', \\'  \"metadata\": {\\', \\'    \"@type\": \"type.googleapis.com/google.cloud.visionai.v1alpha1.RetailOperationMetadata\",\\', \\'    \"partialFailures\": [\\', \\'      {\\', \\'        \"code\": 3,\\', \\'        \"message\": \"All given gtins were invalid and no third party ids were provided.\\\\\\\\ncom.google.apps.framework.request.StatusException: \\\\\\\\u003ceye3 title=\\\\\\'INVALID_ARGUMENT\\\\\\'/\\\\\\\\u003e generic::INVALID_ARGUMENT: All given gtins were invalid and no third party ids were provided. while creating product: \\\\\\'804969\\\\\\'\"\\', \\'      },\\', \\'      {\\', \\'        \"code\": 3,\\', \\'        \"message\": \"All given gtins were invalid and no third party ids were provided.\\\\\\\\ncom.google.apps.framework.request.StatusException: \\\\\\\\u003ceye3 title=\\\\\\'INVALID_ARGUMENT\\\\\\'/\\\\\\\\u003e generic::INVALID_ARGUMENT: All given gtins were invalid and no third party ids were provided. while creating product: \\\\\\'804969\\\\\\'\"\\', \\'      },\\', \\'      {\\', \\'        \"code\": 3,\\', \\'        \"message\": \"All given gtins were invalid and no third party ids were provided.\\\\\\\\ncom.google.apps.framework.request.StatusException: \\\\\\\\u003ceye3 title=\\\\\\'INVALID_ARGUMENT\\\\\\'/\\\\\\\\u003e generic::INVALID_ARGUMENT: All given gtins were invalid and no third party ids were provided. while creating product: \\\\\\'78040\\\\\\'\"\\', \\'      },\\', \\'      {\\', \\'        \"code\": 3,\\', \\'        \"message\": \"All given gtins were invalid and no third party ids were provided.\\\\\\\\ncom.google.apps.framework.request.StatusException: \\\\\\\\u003ceye3 title=\\\\\\'INVALID_ARGUMENT\\\\\\'/\\\\\\\\u003e generic::INVALID_ARGUMENT: All given gtins were invalid and no third party ids were provided. while creating product: \\\\\\'686285\\\\\\'\"\\', \\'      },\\', \\'      {\\', \\'        \"code\": 3,\\', \\'        \"message\": \"All given gtins were invalid and no third party ids were provided.\\\\\\\\ncom.google.apps.framework.request.StatusException: \\\\\\\\u003ceye3 title=\\\\\\'INVALID_ARGUMENT\\\\\\'/\\\\\\\\u003e generic::INVALID_ARGUMENT: All given gtins were invalid and no third party ids were provided. while creating product: \\\\\\'660376\\\\\\'\"\\', \\'      },\\', \\'      {\\', \\'        \"code\": 3,\\', \\'        \"message\": \"All given gtins were invalid and no third party ids were provided.\\\\\\\\ncom.google.apps.framework.request.StatusException: \\\\\\\\u003ceye3 title=\\\\\\'INVALID_ARGUMENT\\\\\\'/\\\\\\\\u003e generic::INVALID_ARGUMENT: All given gtins were invalid and no third party ids were provided. while creating product: \\\\\\'660376\\\\\\'\"\\', \\'      },\\', \\'      {\\', \\'        \"code\": 3,\\', \\'        \"message\": \"All given gtins were invalid and no third party ids were provided.\\\\\\\\ncom.google.apps.framework.request.StatusException: \\\\\\\\u003ceye3 title=\\\\\\'INVALID_ARGUMENT\\\\\\'/\\\\\\\\u003e generic::INVALID_ARGUMENT: All given gtins were invalid and no third party ids were provided. while creating product: \\\\\\'647735\\\\\\'\"\\', \\'      },\\', \\'      {\\', \\'        \"code\": 3,\\', \\'        \"message\": \"All given gtins were invalid and no third party ids were provided.\\\\\\\\ncom.google.apps.framework.request.StatusException: \\\\\\\\u003ceye3 title=\\\\\\'INVALID_ARGUMENT\\\\\\'/\\\\\\\\u003e generic::INVALID_ARGUMENT: All given gtins were invalid and no third party ids were provided. while creating product: \\\\\\'647735\\\\\\'\"\\', \\'      },\\', \\'      {\\', \\'        \"code\": 3,\\', \\'        \"message\": \"All given gtins were invalid and no third party ids were provided.\\\\\\\\ncom.google.apps.framework.request.StatusException: \\\\\\\\u003ceye3 title=\\\\\\'INVALID_ARGUMENT\\\\\\'/\\\\\\\\u003e generic::INVALID_ARGUMENT: All given gtins were invalid and no third party ids were provided. while creating product: \\\\\\'521591\\\\\\'\"\\', \\'      },\\', \\'      {\\', \\'        \"code\": 3,\\', \\'        \"message\": \"All given gtins were invalid and no third party ids were provided.\\\\\\\\ncom.google.apps.framework.request.StatusException: \\\\\\\\u003ceye3 title=\\\\\\'INVALID_ARGUMENT\\\\\\'/\\\\\\\\u003e generic::INVALID_ARGUMENT: All given gtins were invalid and no third party ids were provided. while creating product: \\\\\\'521591\\\\\\'\"\\', \\'      },\\', \\'      {\\', \\'        \"code\": 3,\\', \\'        \"message\": \"All given gtins were invalid and no third party ids were provided.\\\\\\\\ncom.google.apps.framework.request.StatusException: \\\\\\\\u003ceye3 title=\\\\\\'INVALID_ARGUMENT\\\\\\'/\\\\\\\\u003e generic::INVALID_ARGUMENT: All given gtins were invalid and no third party ids were provided. while creating product: \\\\\\'487929\\\\\\'\"\\', \\'      },\\', \\'      {\\', \\'        \"code\": 3,\\', \\'        \"message\": \"All given gtins were invalid and no third party ids were provided.\\\\\\\\ncom.google.apps.framework.request.StatusException: \\\\\\\\u003ceye3 title=\\\\\\'INVALID_ARGUMENT\\\\\\'/\\\\\\\\u003e generic::INVALID_ARGUMENT: All given gtins were invalid and no third party ids were provided. while creating product: \\\\\\'487929\\\\\\'\"\\', \\'      },\\', \\'      {\\', \\'        \"code\": 3,\\', \\'        \"message\": \"All given gtins were invalid and no third party ids were provided.\\\\\\\\ncom.google.apps.framework.request.StatusException: \\\\\\\\u003ceye3 title=\\\\\\'INVALID_ARGUMENT\\\\\\'/\\\\\\\\u003e generic::INVALID_ARGUMENT: All given gtins were invalid and no third party ids were provided. while creating product: \\\\\\'352601\\\\\\'\"\\', \\'      },\\', \\'      {\\', \\'        \"code\": 3,\\', \\'        \"message\": \"All given gtins were invalid and no third party ids were provided.\\\\\\\\ncom.google.apps.framework.request.StatusException: \\\\\\\\u003ceye3 title=\\\\\\'INVALID_ARGUMENT\\\\\\'/\\\\\\\\u003e generic::INVALID_ARGUMENT: All given gtins were invalid and no third party ids were provided. while creating product: \\\\\\'30568\\\\\\'\"\\', \\'      },\\', \\'      {\\', \\'        \"code\": 3,\\', \\'        \"message\": \"All given gtins were invalid and no third party ids were provided.\\\\\\\\ncom.google.apps.framework.request.StatusException: \\\\\\\\u003ceye3 title=\\\\\\'INVALID_ARGUMENT\\\\\\'/\\\\\\\\u003e generic::INVALID_ARGUMENT: All given gtins were invalid and no third party ids were provided. while creating product: \\\\\\'244370\\\\\\'\"\\', \\'      },\\', \\'      {\\', \\'        \"code\": 3,\\', \\'        \"message\": \"All given gtins were invalid and no third party ids were provided.\\\\\\\\ncom.google.apps.framework.request.StatusException: \\\\\\\\u003ceye3 title=\\\\\\'INVALID_ARGUMENT\\\\\\'/\\\\\\\\u003e generic::INVALID_ARGUMENT: All given gtins were invalid and no third party ids were provided. while creating product: \\\\\\'243760\\\\\\'\"\\', \\'      },\\', \\'      {\\', \\'        \"code\": 3,\\', \\'        \"message\": \"All given gtins were invalid and no third party ids were provided.\\\\\\\\ncom.google.apps.framework.request.StatusException: \\\\\\\\u003ceye3 title=\\\\\\'INVALID_ARGUMENT\\\\\\'/\\\\\\\\u003e generic::INVALID_ARGUMENT: All given gtins were invalid and no third party ids were provided. while creating product: \\\\\\'238511\\\\\\'\"\\', \\'      },\\', \\'      {\\', \\'        \"code\": 3,\\', \\'        \"message\": \"All given gtins were invalid and no third party ids were provided.\\\\\\\\ncom.google.apps.framework.request.StatusException: \\\\\\\\u003ceye3 title=\\\\\\'INVALID_ARGUMENT\\\\\\'/\\\\\\\\u003e generic::INVALID_ARGUMENT: All given gtins were invalid and no third party ids were provided. while creating product: \\\\\\'238511\\\\\\'\"\\', \\'      },\\', \\'      {\\', \\'        \"code\": 3,\\', \\'        \"message\": \"All given gtins were invalid and no third party ids were provided.\\\\\\\\ncom.google.apps.framework.request.StatusException: \\\\\\\\u003ceye3 title=\\\\\\'INVALID_ARGUMENT\\\\\\'/\\\\\\\\u003e generic::INVALID_ARGUMENT: All given gtins were invalid and no third party ids were provided. while creating product: \\\\\\'216895\\\\\\'\"\\', \\'      },\\', \\'      {\\', \\'        \"code\": 3,\\', \\'        \"message\": \"All given gtins were invalid and no third party ids were provided.\\\\\\\\ncom.google.apps.framework.request.StatusException: \\\\\\\\u003ceye3 title=\\\\\\'INVALID_ARGUMENT\\\\\\'/\\\\\\\\u003e generic::INVALID_ARGUMENT: All given gtins were invalid and no third party ids were provided. while creating product: \\\\\\'216895\\\\\\'\"\\', \\'      }\\', \\'    ],\\', \\'    \"operationMetrics\": {\\', \\'      \"counters\": {\\', \\'        \"Product Already Exists\": 3304,\\', \\'        \"Create Product Failure\": 29,\\', \\'        \"Create Product Success\": 2161,\\', \\'        \"Product Entry Seen\": 5494\\', \\'      }\\', \\'    }\\', \\'  },\\', \\'  \"done\": true,\\', \\'  \"response\": {\\', \\'    \"@type\": \"type.googleapis.com/google.cloud.visionai.v1alpha1.ImportRetailProductsResponse\"\\', \\'  }\\', \\'}\\']'"
            ],
            "application/vnd.google.colaboratory.intrinsic+json": {
              "type": "string"
            }
          },
          "metadata": {},
          "execution_count": 23
        }
      ]
    },
    {
      "cell_type": "markdown",
      "source": [
        "<div class=\"markdown-google-sans\">\n",
        "\n",
        "### **Create a Product Recognition Index**\n",
        "\n",
        "You have the following options when creating a Product Recognition Index:\n",
        "\n",
        "1. Create without check the KG coverage\n",
        "2. Create and get the KG coverage of your products (informing which ones you'll need to add more info.\n",
        "3. Only from a Product set. *not shown here*\n",
        "\n",
        "More info see [here](https://cloud.google.com/vision-ai/docs/product-recognizer#productrecognitionindex).\n",
        "\n",
        "</div>\n",
        "\n"
      ],
      "metadata": {
        "id": "8yrjqxBDvGnu"
      },
      "id": "8yrjqxBDvGnu"
    },
    {
      "cell_type": "code",
      "source": [
        "# Create from Catalog\n",
        "# !curl -sS -X POST -H \"Authorization: Bearer $(gcloud auth print-access-token)\" -H \"Content-Type: application/json\" https://visionai.googleapis.com/v1alpha1/projects/$PROJECT_ID/locations/$LOCATION/retailCatalogs/$CATALOG_ID/retailProductRecognitionIndexes?retail_product_recognition_index_id=$INDEX_ID"
      ],
      "metadata": {
        "id": "3--lQ9cuwPIw"
      },
      "id": "3--lQ9cuwPIw",
      "execution_count": null,
      "outputs": []
    },
    {
      "cell_type": "markdown",
      "source": [
        "Alternatively you can add the option to output the option of your knowledge graph upon creation"
      ],
      "metadata": {
        "id": "Bkncs3cATyGq"
      },
      "id": "Bkncs3cATyGq"
    },
    {
      "cell_type": "code",
      "source": [
        "# Create from Catalog and output index coverage CSV file to a Cloud Storage directory.\n",
        "# This API method is especially useful when you want to understand the\n",
        "# actual number of images used to construct the index per imported GTIN, and\n",
        "# the image can be sourced from the Google Product database, your own importing,\n",
        "# and other means (such as with the Google Data Labeling service.\n",
        "output = !curl -sS -X POST -H \"Authorization: Bearer $(gcloud auth print-access-token)\" -H \"Content-Type: application/json\" \"https://visionai.googleapis.com/v1alpha1/projects/$PROJECT_ID/locations/us-central1/retailCatalogs/$CATALOG_ID/retailProductRecognitionIndexes?retail_product_recognition_index_id=$INDEX_ID&coverage_output.output_uri_prefix=$COVERAGE_CSV_OUTPUT_DIRECTORY\"\n",
        "ouput = str(output)\n",
        "OPERATION_ID = output[1].split(':')[1].split('/')[-1][0:-2]"
      ],
      "metadata": {
        "id": "UlGlmAFvTvBp",
        "executionInfo": {
          "status": "ok",
          "timestamp": 1707107351445,
          "user_tz": -660,
          "elapsed": 1748,
          "user": {
            "displayName": "",
            "userId": ""
          }
        }
      },
      "id": "UlGlmAFvTvBp",
      "execution_count": 24,
      "outputs": []
    },
    {
      "cell_type": "code",
      "source": [
        "print(OPERATION_ID)"
      ],
      "metadata": {
        "id": "n-9-XO9GxT5p",
        "colab": {
          "base_uri": "https://localhost:8080/"
        },
        "executionInfo": {
          "status": "ok",
          "timestamp": 1707107356809,
          "user_tz": -660,
          "elapsed": 437,
          "user": {
            "displayName": "",
            "userId": ""
          }
        },
        "outputId": "c8a91493-4dd7-4666-8fd7-3c5fdf84bac2"
      },
      "id": "n-9-XO9GxT5p",
      "execution_count": 25,
      "outputs": [
        {
          "output_type": "stream",
          "name": "stdout",
          "text": [
            "operation-1707107350773-6109ae73c7e88-fc17fe6a-2a354b80\n"
          ]
        }
      ]
    },
    {
      "cell_type": "code",
      "source": [
        "#check if it's done, this operation will take a couple of minutes\n",
        "check_operation_status(OPERATION_ID)"
      ],
      "metadata": {
        "colab": {
          "base_uri": "https://localhost:8080/",
          "height": 105
        },
        "id": "4hhGmawDYRHI",
        "executionInfo": {
          "status": "ok",
          "timestamp": 1707107910071,
          "user_tz": -660,
          "elapsed": 550511,
          "user": {
            "displayName": "",
            "userId": ""
          }
        },
        "outputId": "1777d62e-4f62-4a78-992d-6a8cdd628b4f"
      },
      "id": "4hhGmawDYRHI",
      "execution_count": 26,
      "outputs": [
        {
          "output_type": "stream",
          "name": "stdout",
          "text": [
            "Awaiting function operation-1707107350773-6109ae73c7e88-fc17fe6a-2a354b80  8 minutes elapsed. Operation: operation-1707107350773-6109ae73c7e88-fc17fe6a-2a354b80 done\n"
          ]
        },
        {
          "output_type": "execute_result",
          "data": {
            "text/plain": [
              "'[\\'{\\', \\'  \"name\": \"projects/neon-camera-403606/locations/us-central1/operations/operation-1707107350773-6109ae73c7e88-fc17fe6a-2a354b80\",\\', \\'  \"done\": true,\\', \\'  \"response\": {\\', \\'    \"@type\": \"type.googleapis.com/google.cloud.visionai.v1alpha1.RetailProductRecognitionIndex\",\\', \\'    \"name\": \"projects/neon-camera-403606/locations/us-central1/retailCatalogs/neon-camera-catalog-labelled/retailProductRecognitionIndexes/labelled-001\",\\', \\'    \"createTime\": \"2024-02-05T04:29:10.964882176Z\",\\', \\'    \"updateTime\": \"2024-02-05T04:29:10.964882176Z\",\\', \\'    \"resourceState\": \"RETAIL_RESOURCE_STATE_CREATED\"\\', \\'  }\\', \\'}\\']'"
            ],
            "application/vnd.google.colaboratory.intrinsic+json": {
              "type": "string"
            }
          },
          "metadata": {},
          "execution_count": 26
        }
      ]
    },
    {
      "cell_type": "code",
      "source": [
        "#confirm it has been properly created by listing\n",
        "!curl -sS -X GET -H \"Authorization: Bearer $(gcloud auth print-access-token)\" -H \"Content-Type: application/json\" https://visionai.googleapis.com/v1alpha1/projects/$PROJECT_ID/locations/$LOCATION/retailCatalogs/$CATALOG_ID/retailProductRecognitionIndexes"
      ],
      "metadata": {
        "id": "odrqxFyHxch5",
        "colab": {
          "base_uri": "https://localhost:8080/"
        },
        "executionInfo": {
          "status": "ok",
          "timestamp": 1707107911184,
          "user_tz": -660,
          "elapsed": 1117,
          "user": {
            "displayName": "",
            "userId": ""
          }
        },
        "outputId": "8e399edc-3bd3-4a26-fffd-cf42fce45c69"
      },
      "id": "odrqxFyHxch5",
      "execution_count": 27,
      "outputs": [
        {
          "output_type": "stream",
          "name": "stdout",
          "text": [
            "{\n",
            "  \"retailProductRecognitionIndexes\": [\n",
            "    {\n",
            "      \"name\": \"projects/neon-camera-403606/locations/us-central1/retailCatalogs/neon-camera-catalog-labelled/retailProductRecognitionIndexes/labelled-001\",\n",
            "      \"createTime\": \"2024-02-05T04:29:10.964882176Z\",\n",
            "      \"updateTime\": \"2024-02-05T04:36:52.776445009Z\",\n",
            "      \"resourceState\": \"RETAIL_RESOURCE_STATE_CREATED\"\n",
            "    }\n",
            "  ]\n",
            "}\n"
          ]
        }
      ]
    },
    {
      "cell_type": "markdown",
      "source": [
        "<div class=\"markdown-google-sans\">\n",
        "\n",
        "### **Create and Deploy to Endpoint**\n",
        "You can set a recognition confidence threshold to limit the results that are returned. This is a value between 0 and 1.\n",
        "</div>\n",
        "\n",
        "\n",
        "** PYthon variable not working on cURL commands **\n",
        "\n"
      ],
      "metadata": {
        "id": "nW_AZ5NKvJwI"
      },
      "id": "nW_AZ5NKvJwI"
    },
    {
      "cell_type": "code",
      "source": [
        "recognition_threshold = 0.2"
      ],
      "metadata": {
        "id": "dlfssOhCzHsU",
        "executionInfo": {
          "status": "ok",
          "timestamp": 1707109804526,
          "user_tz": -660,
          "elapsed": 420,
          "user": {
            "displayName": "",
            "userId": ""
          }
        }
      },
      "id": "dlfssOhCzHsU",
      "execution_count": 28,
      "outputs": []
    },
    {
      "cell_type": "code",
      "source": [
        "#create the endpoint first\n",
        "request_data=f\"\"\"\n",
        "{{\n",
        " \"productRecognitionConfig\": {{\n",
        "    \"recognitionConfidenceThreshold\": {recognition_threshold}\n",
        "  }}\n",
        "}}\n",
        "\"\"\"\n",
        "\n",
        "# Open the file for writing\n",
        "with open('data.json', 'w') as f:\n",
        "    # Define the data to be written\n",
        "    # Use a for loop to write each line of data to the file\n",
        "    f.write(request_data)\n",
        "    f.close()"
      ],
      "metadata": {
        "id": "zM3jRr5oxVO2",
        "executionInfo": {
          "status": "ok",
          "timestamp": 1707109805925,
          "user_tz": -660,
          "elapsed": 1,
          "user": {
            "displayName": "",
            "userId": ""
          }
        }
      },
      "id": "zM3jRr5oxVO2",
      "execution_count": 29,
      "outputs": []
    },
    {
      "cell_type": "code",
      "source": [
        "output = !curl -sS -X POST -H \"Authorization: Bearer $(gcloud auth print-access-token)\" -H \"Content-Type: application/json\" https://visionai.googleapis.com/v1alpha1/projects/$PROJECT_ID/locations/us-central1/retailEndpoints?retail_endpoint_id=$ENDPOINT_ID -d @data.json\n",
        "ouput = str(output)\n",
        "OPERATION_ID = output[1].split(':')[1].split('/')[-1][0:-2]\n",
        "print(output)"
      ],
      "metadata": {
        "id": "vr2F0Rb-sJDM",
        "colab": {
          "base_uri": "https://localhost:8080/"
        },
        "executionInfo": {
          "status": "ok",
          "timestamp": 1707109810396,
          "user_tz": -660,
          "elapsed": 1787,
          "user": {
            "displayName": "",
            "userId": ""
          }
        },
        "outputId": "368e85f7-aa6c-4e06-a78b-5e12e529acb3"
      },
      "id": "vr2F0Rb-sJDM",
      "execution_count": 30,
      "outputs": [
        {
          "output_type": "stream",
          "name": "stdout",
          "text": [
            "['{', '  \"name\": \"projects/neon-camera-403606/locations/us-central1/retailEndpoints/labelled-001\",', '  \"createTime\": \"2024-02-05T05:10:09.756010398Z\",', '  \"updateTime\": \"2024-02-05T05:10:09.756010398Z\",', '  \"resourceState\": \"RETAIL_RESOURCE_STATE_CREATED\",', '  \"productRecognitionConfig\": {', '    \"recognitionConfidenceThreshold\": 0.2', '  }', '}']\n"
          ]
        }
      ]
    },
    {
      "cell_type": "code",
      "source": [
        "check_operation_status(OPERATION_ID)"
      ],
      "metadata": {
        "id": "AtD6tr81sU7v",
        "colab": {
          "base_uri": "https://localhost:8080/",
          "height": 315
        },
        "executionInfo": {
          "status": "error",
          "timestamp": 1707125597615,
          "user_tz": -660,
          "elapsed": 167023,
          "user": {
            "displayName": "",
            "userId": ""
          }
        },
        "outputId": "29c4fc89-8555-4dcd-a084-361888530f4e"
      },
      "id": "AtD6tr81sU7v",
      "execution_count": 31,
      "outputs": [
        {
          "output_type": "stream",
          "name": "stdout",
          "text": [
            "Awaiting function labelled-001  263 minutes elapsed."
          ]
        },
        {
          "output_type": "error",
          "ename": "KeyboardInterrupt",
          "evalue": "",
          "traceback": [
            "\u001b[0;31m---------------------------------------------------------------------------\u001b[0m",
            "\u001b[0;31mKeyboardInterrupt\u001b[0m                         Traceback (most recent call last)",
            "\u001b[0;32m<ipython-input-31-c852764176b2>\u001b[0m in \u001b[0;36m<cell line: 1>\u001b[0;34m()\u001b[0m\n\u001b[0;32m----> 1\u001b[0;31m \u001b[0mcheck_operation_status\u001b[0m\u001b[0;34m(\u001b[0m\u001b[0mOPERATION_ID\u001b[0m\u001b[0;34m)\u001b[0m\u001b[0;34m\u001b[0m\u001b[0;34m\u001b[0m\u001b[0m\n\u001b[0m",
            "\u001b[0;32m<ipython-input-12-327c4ea9febb>\u001b[0m in \u001b[0;36mcheck_operation_status\u001b[0;34m(operation_id, check_timeout)\u001b[0m\n\u001b[1;32m     12\u001b[0m     \u001b[0melapsed_time\u001b[0m \u001b[0;34m=\u001b[0m \u001b[0mstr\u001b[0m\u001b[0;34m(\u001b[0m\u001b[0mround\u001b[0m\u001b[0;34m(\u001b[0m\u001b[0mcurrent_time\u001b[0m\u001b[0;34m-\u001b[0m\u001b[0mstart\u001b[0m\u001b[0;34m)\u001b[0m\u001b[0;34m)\u001b[0m\u001b[0;34m+\u001b[0m\u001b[0;34m' seconds '\u001b[0m \u001b[0;32mif\u001b[0m \u001b[0mcurrent_time\u001b[0m \u001b[0;34m-\u001b[0m \u001b[0mstart\u001b[0m \u001b[0;34m<\u001b[0m \u001b[0;36m60\u001b[0m \u001b[0;32melse\u001b[0m \u001b[0mstr\u001b[0m\u001b[0;34m(\u001b[0m \u001b[0mround\u001b[0m\u001b[0;34m(\u001b[0m\u001b[0;34m(\u001b[0m\u001b[0mcurrent_time\u001b[0m\u001b[0;34m-\u001b[0m\u001b[0mstart\u001b[0m\u001b[0;34m)\u001b[0m\u001b[0;34m/\u001b[0m\u001b[0;36m60\u001b[0m\u001b[0;34m)\u001b[0m \u001b[0;34m)\u001b[0m \u001b[0;34m+\u001b[0m \u001b[0;34m' minutes'\u001b[0m\u001b[0;34m\u001b[0m\u001b[0;34m\u001b[0m\u001b[0m\n\u001b[1;32m     13\u001b[0m     \u001b[0mprint\u001b[0m\u001b[0;34m(\u001b[0m\u001b[0;34m\"\\r\"\u001b[0m\u001b[0;34m+\u001b[0m\u001b[0;34m'Awaiting function {}  {} elapsed.'\u001b[0m\u001b[0;34m.\u001b[0m\u001b[0mformat\u001b[0m\u001b[0;34m(\u001b[0m\u001b[0mOPERATION_ID\u001b[0m\u001b[0;34m,\u001b[0m \u001b[0melapsed_time\u001b[0m\u001b[0;34m)\u001b[0m\u001b[0;34m,\u001b[0m\u001b[0mend\u001b[0m\u001b[0;34m=\u001b[0m\u001b[0;34m\"\"\u001b[0m\u001b[0;34m)\u001b[0m\u001b[0;34m\u001b[0m\u001b[0;34m\u001b[0m\u001b[0m\n\u001b[0;32m---> 14\u001b[0;31m     \u001b[0mtime\u001b[0m\u001b[0;34m.\u001b[0m\u001b[0msleep\u001b[0m\u001b[0;34m(\u001b[0m\u001b[0mcheck_timeout\u001b[0m\u001b[0;34m)\u001b[0m\u001b[0;34m\u001b[0m\u001b[0;34m\u001b[0m\u001b[0m\n\u001b[0m\u001b[1;32m     15\u001b[0m     \u001b[0mdone\u001b[0m \u001b[0;34m=\u001b[0m \u001b[0;34m'\"done\": true'\u001b[0m \u001b[0;32min\u001b[0m \u001b[0moperation_result\u001b[0m\u001b[0;34m\u001b[0m\u001b[0;34m\u001b[0m\u001b[0m\n\u001b[1;32m     16\u001b[0m \u001b[0;34m\u001b[0m\u001b[0m\n",
            "\u001b[0;31mKeyboardInterrupt\u001b[0m: "
          ]
        }
      ]
    },
    {
      "cell_type": "markdown",
      "source": [
        "Deploy the product recognition index to the endpoint"
      ],
      "metadata": {
        "id": "zmI6K3ECtJOO"
      },
      "id": "zmI6K3ECtJOO"
    },
    {
      "cell_type": "code",
      "source": [
        "#create the endpoint first\n",
        "request_data=f\"\"\"\n",
        "{{\n",
        "    \"retail_product_recognition_index\": \"projects/{PROJECT_ID}/locations/us-central1/retailCatalogs/{CATALOG_ID}/retailProductRecognitionIndexes/{INDEX_ID}\"\n",
        "}}\n",
        "\"\"\"\n",
        "\n",
        "# Open the file for writing\n",
        "with open('data.json', 'w') as f:\n",
        "    # Define the data to be written\n",
        "    # Use a for loop to write each line of data to the file\n",
        "    f.write(request_data)\n",
        "    f.close()"
      ],
      "metadata": {
        "id": "aSWY03dgtRxS",
        "executionInfo": {
          "status": "ok",
          "timestamp": 1707125604242,
          "user_tz": -660,
          "elapsed": 461,
          "user": {
            "displayName": "",
            "userId": ""
          }
        }
      },
      "id": "aSWY03dgtRxS",
      "execution_count": 32,
      "outputs": []
    },
    {
      "cell_type": "code",
      "source": [
        "output = !curl -sS -X POST -H \"Authorization: Bearer $(gcloud auth print-access-token)\" -H \"Content-Type: application/json\" https://visionai.googleapis.com/v1alpha1/projects/$PROJECT_ID/locations/us-central1/retailEndpoints/$ENDPOINT_ID:deployRetailProductRecognitionIndex -d @data.json"
      ],
      "metadata": {
        "id": "2e1dLwAntP1g",
        "executionInfo": {
          "status": "ok",
          "timestamp": 1707125610079,
          "user_tz": -660,
          "elapsed": 1913,
          "user": {
            "displayName": "",
            "userId": ""
          }
        }
      },
      "id": "2e1dLwAntP1g",
      "execution_count": 33,
      "outputs": []
    },
    {
      "cell_type": "code",
      "source": [
        "ouput = str(output)\n",
        "OPERATION_ID = output[1].split(':')[1].split('/')[-1][0:-2]\n",
        "check_operation_status(OPERATION_ID,5)\n"
      ],
      "metadata": {
        "id": "8gRp8coRu2Kk",
        "colab": {
          "base_uri": "https://localhost:8080/"
        },
        "outputId": "8aae8149-ba2b-4523-b3ab-32d0de66c543"
      },
      "id": "8gRp8coRu2Kk",
      "execution_count": null,
      "outputs": [
        {
          "output_type": "stream",
          "name": "stdout",
          "text": [
            "Awaiting function operation-1707125609744-6109f278e46a8-5c7b79df-50217ec9  3 minutes elapsed."
          ]
        },
        {
          "output_type": "stream",
          "name": "stdout",
          "text": [
            "{\n",
            "  \"name\": \"projects/neon-camera-403606/locations/us-central1/operations/operation-1707125609744-6109f278e46a8-5c7b79df-50217ec9\",\n",
            "  \"done\": false\n",
            "}\n"
          ]
        }
      ]
    },
    {
      "cell_type": "code",
      "source": [
        "#list endpoints\n",
        "!curl -sS -X GET -H \"Authorization: Bearer $(gcloud auth print-access-token)\" -H \"Content-Type: application/json\" https://visionai.googleapis.com/v1alpha1/projects/$PROJECT_ID/locations/us-central1/retailEndpoints"
      ],
      "metadata": {
        "id": "Xm0iTc-It-yE"
      },
      "id": "Xm0iTc-It-yE",
      "execution_count": null,
      "outputs": []
    },
    {
      "cell_type": "markdown",
      "source": [
        "<div class=\"markdown-google-sans\">\n",
        "\n",
        "# **Update Catalog**\n",
        "</div>"
      ],
      "metadata": {
        "id": "RTvLuMOre_cx"
      },
      "id": "RTvLuMOre_cx"
    },
    {
      "cell_type": "markdown",
      "source": [
        "<div class=\"markdown-google-sans\">Update catalog by creating Product Images. Images are creating per product identifier and need to have a unique name within that product.\n",
        "\n",
        "Sample:\n",
        "\n",
        "```\n",
        "curl -sS -X POST -H \"Authorization: Bearer $(gcloud auth print-access-token)\" -H \"Content-Type: application/json\" https://visionai.googleapis.com/v1alpha1/projects/PROJECT_ID/locations/us-central1/retailCatalogs/CATALOG_ID/retailProducts/PRODUCT_ID/retailProductImages?retail_product_image_id=PRODUCT_IMAGE_ID \\\n",
        "  -d '{\n",
        "    \"source_type\": \"SOURCE_TYPE_HAND_HELD_CAMERA\",\n",
        "    \"gcs_uri\": \"IMAGE_GCS_URI\"\n",
        "  }'\n",
        "```\n",
        "\n",
        "You should upload images for the products that do not have any product coverage. This should have been obtained in the Create Product Recognition index step that output a table that has the following columns:\n",
        "\n",
        "\n",
        "```\n",
        "GTIN or Third Party ID,Normalized GTIN,Covered by Google Data,Covered by User Created Product Images,Covered by System Generated Product Images\n",
        "```\n",
        "</div>"
      ],
      "metadata": {
        "id": "TUkBGvdffH2e"
      },
      "id": "TUkBGvdffH2e"
    },
    {
      "cell_type": "markdown",
      "source": [
        "<div class=\"markdown-google-sans\">\n",
        "\n",
        "## Load Products requiring images\n",
        "1. from a given file load the gtins that need images;\n",
        "2. run a curl command per row that will update the given product with an image\n",
        "3. List images to see if you have succesffuly added.\n",
        "</div>"
      ],
      "metadata": {
        "id": "6iK64LvRflud"
      },
      "id": "6iK64LvRflud"
    },
    {
      "cell_type": "code",
      "source": [
        "# Load images\n",
        "IMAGE_FILE_URI = 'require_product_images.csv'\n",
        "\n",
        "\n",
        "df_images = pd.read_csv(INPUT_BUCKET+'/'+IMAGE_FILE_URI)\n",
        "df_images"
      ],
      "metadata": {
        "id": "K0HnsIm6fGkH"
      },
      "id": "K0HnsIm6fGkH",
      "execution_count": null,
      "outputs": []
    },
    {
      "cell_type": "code",
      "source": [
        "#join with product data on EAN\n",
        "df_result = pd.merge(df_images, df, how=\"left\", on=\"EAN\")\n",
        "df_result"
      ],
      "metadata": {
        "id": "OswnKWs6y6Q-"
      },
      "id": "OswnKWs6y6Q-",
      "execution_count": null,
      "outputs": []
    },
    {
      "cell_type": "code",
      "source": [
        "# add the curl command\n",
        "df_result['gcs_uri'] = df_result.apply( lambda row: f\"\"\"{INPUT_BUCKET}/assets/{row['Article']}\"\"\",axis =1)\n",
        "df_result['command'] = df_result.apply( lambda row: f\"\"\"curl -sS -X POST -H \"Authorization: Bearer $(gcloud auth print-access-token)\" -H \"Content-Type: application/json\" https://visionai.googleapis.com/v1alpha1/projects/{PROJECT_ID}/locations/us-central1/retailCatalogs/{CATALOG_ID}/retailProducts/{row['Article']}/retailProductImages?retail_product_image_id=1 -d '{{\"source_type\": \"SOURCE_TYPE_FIXED_CAMERA\", \"gcs_uri\": \"{row['gcs_uri']}.jpg\"}}'\"\"\", axis=1)\n",
        "\n",
        "df_result.head()"
      ],
      "metadata": {
        "id": "3r_ntzySz0Sw"
      },
      "id": "3r_ntzySz0Sw",
      "execution_count": null,
      "outputs": []
    },
    {
      "cell_type": "markdown",
      "source": [
        "<div class=\"markdown-google-sans\">\n",
        "\n",
        "## Add Products images\n",
        "</div>"
      ],
      "metadata": {
        "id": "vkMR9ZlD-82y"
      },
      "id": "vkMR9ZlD-82y"
    },
    {
      "cell_type": "code",
      "source": [
        "# run commands to add images\n",
        "for i in tqdm(df_result.itertuples()):\n",
        "  !$row.command | grep -i 'error' #suppressing successful entries\n",
        "\n",
        "print('finished adding images')\n"
      ],
      "metadata": {
        "id": "YzvtrAJ7hFcl"
      },
      "id": "YzvtrAJ7hFcl",
      "execution_count": null,
      "outputs": []
    },
    {
      "cell_type": "markdown",
      "source": [
        "Adding bread images:"
      ],
      "metadata": {
        "id": "i3xQrhz0vIX2"
      },
      "id": "i3xQrhz0vIX2"
    },
    {
      "cell_type": "code",
      "source": [
        "IMAGE_FILE_URI = 'bread_images.csv'\n",
        "df_images_bread = pd.read_csv(INPUT_BUCKET+'/'+IMAGE_FILE_URI)\n",
        "df_images_bread.head()"
      ],
      "metadata": {
        "id": "gAjlPGVIvKlY"
      },
      "id": "gAjlPGVIvKlY",
      "execution_count": null,
      "outputs": []
    },
    {
      "cell_type": "code",
      "source": [
        "df_images_bread['command'] = df_images_bread.apply( lambda row: f\"\"\"curl -sS -X POST -H \"Authorization: Bearer $(gcloud auth print-access-token)\" -H \"Content-Type: application/json\" https://visionai.googleapis.com/v1alpha1/projects/{PROJECT_ID}/locations/us-central1/retailCatalogs/{CATALOG_ID}/retailProducts/{row['Article']}/retailProductImages?retail_product_image_id={row['image_id']} -d '{{\"source_type\": \"SOURCE_TYPE_FIXED_CAMERA\", \"gcs_uri\": \"{row['gcs_uri']}\"}}'\"\"\", axis=1)\n",
        "df_images_bread.head()"
      ],
      "metadata": {
        "id": "4m2MmyNgvSd-"
      },
      "id": "4m2MmyNgvSd-",
      "execution_count": null,
      "outputs": []
    },
    {
      "cell_type": "code",
      "source": [
        "# run commands to add images\n",
        "for row in df_images_bread.itertuples():\n",
        "  !$row.command\n",
        "\n",
        "print('finished adding images')"
      ],
      "metadata": {
        "id": "KhaOicY9vwtt"
      },
      "id": "KhaOicY9vwtt",
      "execution_count": null,
      "outputs": []
    },
    {
      "cell_type": "code",
      "source": [
        "aux_df = df_images_bread\n",
        "\n",
        "for row in aux_df.itertuples():\n",
        "  article_id = row.Article\n",
        "  image_id = row.ID\n",
        "  !curl -sS -X POST -H \"Authorization: Bearer $(gcloud auth print-access-token)\" -H \"Content-Type: application/json\" https://visionai.googleapis.com/v1alpha1/projects/{PROJECT_ID}/locations/us-central1/retailCatalogs/{CATALOG_ID}/retailProducts/{article_id}/retailProductImages/1\n"
      ],
      "metadata": {
        "id": "rsHCsT3JwVPV"
      },
      "id": "rsHCsT3JwVPV",
      "execution_count": null,
      "outputs": []
    },
    {
      "cell_type": "code",
      "source": [],
      "metadata": {
        "id": "TA0eASSxwXwL"
      },
      "id": "TA0eASSxwXwL",
      "execution_count": null,
      "outputs": []
    }
  ]
}